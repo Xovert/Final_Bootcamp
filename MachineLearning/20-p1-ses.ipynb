{
 "cells": [
  {
   "cell_type": "markdown",
   "metadata": {
    "colab_type": "text",
    "id": "view-in-github"
   },
   "source": [
    "<a href=\"https://colab.research.google.com/github/google/applied-machine-learning-intensive/blob/master/content/02_data/05_exploratory_data_analysis/colab-part1.ipynb\" target=\"_parent\"><img src=\"https://colab.research.google.com/assets/colab-badge.svg\" alt=\"Open In Colab\"/></a>"
   ]
  },
  {
   "cell_type": "markdown",
   "metadata": {
    "colab_type": "text",
    "id": "copyright"
   },
   "source": [
    "#### Copyright 2020 Google LLC."
   ]
  },
  {
   "cell_type": "code",
   "execution_count": null,
   "metadata": {
    "colab": {},
    "colab_type": "code",
    "id": "jHUQ8PUGZh8y"
   },
   "outputs": [],
   "source": [
    "# Licensed under the Apache License, Version 2.0 (the \"License\");\n",
    "# you may not use this file except in compliance with the License.\n",
    "# You may obtain a copy of the License at\n",
    "#\n",
    "# https://www.apache.org/licenses/LICENSE-2.0\n",
    "#\n",
    "# Unless required by applicable law or agreed to in writing, software\n",
    "# distributed under the License is distributed on an \"AS IS\" BASIS,\n",
    "# WITHOUT WARRANTIES OR CONDITIONS OF ANY KIND, either express or implied.\n",
    "# See the License for the specific language governing permissions and\n",
    "# limitations under the License."
   ]
  },
  {
   "cell_type": "markdown",
   "metadata": {
    "colab_type": "text",
    "id": "HQswfu6M_ZBR"
   },
   "source": [
    "# Exploratory Data Analysis"
   ]
  },
  {
   "cell_type": "markdown",
   "metadata": {
    "colab_type": "text",
    "id": "invE35z3n2Yn"
   },
   "source": [
    "[Exploratory Data Analysis](https://en.wikipedia.org/wiki/Exploratory_data_analysis), often shortened to EDA, is a term that you'll hear quite a bit in the field of data science. EDA is the process of examining a dataset to find facts about the data and communicating those facts, often through visualizations.\n",
    "\n",
    "In order to explore the data and visualize it, some modifications might need to be made to the data along the way. This is often referred to as *data preprocessing*. Though data preprocessing is technically different from EDA, EDA often exposes problems with the data that need to be fixed in order to continue exploring. Because of this tight coupling, we'll clean the data as necessary to help understand the data.\n",
    "\n",
    "In this lab we will apply our Pandas knowledge to explore a dataset about chocolate. Part 1 of the lab will explore each column in our dataset individually. Part 2 will take the results of our preprocessed data and search for patterns across columns and rows."
   ]
  },
  {
   "cell_type": "markdown",
   "metadata": {
    "colab_type": "text",
    "id": "bIxZkNQzBiyc"
   },
   "source": [
    "## Introduction\n",
    "\n"
   ]
  },
  {
   "cell_type": "markdown",
   "metadata": {
    "colab_type": "text",
    "id": "U4nDJfscDH9o"
   },
   "source": [
    "### The Dataset: Chocolate Bar Ratings\n",
    "\n",
    "In this lab we will use a [chocolate bar ratings dataset](https://www.kaggle.com/rtatman/chocolate-bar-ratings). The dataset is from the [Flavors of Cacao](http://flavorsofcacao.com/flavor.html) data.\n",
    "\n",
    "On the [Kaggle page for the dataset](https://www.kaggle.com/rtatman/chocolate-bar-ratings), we can find some basic information about the dataset. For instance, there are over 1,700 chocolate bars that have been rated. We can also preview the columns found in the dataset:\n",
    "\n",
    "Column | Data Type | Description\n",
    "-------|-----------|-------------\n",
    "Company (Maker-if known) | String | Name of the company manufacturing the bar.\n",
    "Specific Bean Origin or Bar Name | String | The specific geo-region of origin for the bar.\n",
    "REF | Number | A value linked to when the review was entered in the database. Higher = more recent.\n",
    "Review Date | Number | Date of publication of the review.\n",
    "Cocoa Percent | String | Cocoa percentage (darkness) of the chocolate bar being reviewed.\n",
    "Company Location | String | Manufacturer base country.\n",
    "Rating | Number | Expert rating for the bar.\n",
    "BeanType | String | The variety (breed) of bean used, if provided.\n",
    "Broad Bean Origin | String | The broad geo-region of origin for the bean.\n",
    "\n",
    "This is an interesting dataset. Think of the questions that you might be able to answer! A few could be:\n",
    "\n",
    "*   Is there a relationship between numeric rating and properties such as percentage of cocoa, bean type, origin, and maker?\n",
    "*   Are some of the properties of cacao beans correlated?\n",
    "*   Where are the top chocolate bars from?\n",
    "*   Are there multiple entries for the same bar from the same maker, but with different ratings over the years? If so, has there been any change in the chocolate bar that could account for the differences?\n",
    "*   Do makers who produce a wide variety of bars have a higher chance of creating a top-rated chocolate bar?\n",
    "\n",
    "I'm sure you can think of even more. So, what are we waiting for? Let's load the data!"
   ]
  },
  {
   "cell_type": "markdown",
   "metadata": {
    "colab_type": "text",
    "id": "GP-kRR_72562"
   },
   "source": [
    "## Acquiring the Data\n",
    "\n",
    "The data is hosted on Kaggle, so we can use our Kaggle credentials to download the data into the lab. The dataset is located at [https://www.kaggle.com/rtatman/chocolate-bar-ratings](https://www.kaggle.com/rtatman/chocolate-bar-ratings). We can use the `kaggle` command line utility to do this.\n",
    "\n",
    "First off, upload your `kaggle.json` file into the lab now.\n",
    "\n",
    "Next, run the following command to get the credential files set to the right permissions and located in the correct spot."
   ]
  },
  {
   "cell_type": "code",
   "execution_count": null,
   "metadata": {
    "colab": {},
    "colab_type": "code",
    "id": "-UuViqN232cr"
   },
   "outputs": [],
   "source": [
    "! chmod 600 kaggle.json && (ls ~/.kaggle 2>/dev/null || mkdir ~/.kaggle) && mv kaggle.json ~/.kaggle/ && echo 'Done'"
   ]
  },
  {
   "cell_type": "markdown",
   "metadata": {
    "colab_type": "text",
    "id": "gCMEX2915D1Y"
   },
   "source": [
    "Now we can run the `kaggle` command to actually download the data."
   ]
  },
  {
   "cell_type": "code",
   "execution_count": null,
   "metadata": {
    "colab": {},
    "colab_type": "code",
    "id": "Mo1mS1Jp4c5W"
   },
   "outputs": [],
   "source": [
    "! kaggle datasets download rtatman/chocolate-bar-ratings\n",
    "! ls"
   ]
  },
  {
   "cell_type": "markdown",
   "metadata": {
    "colab_type": "text",
    "id": "PytnXVWU7Lom"
   },
   "source": [
    "We now have our data downloaded to our virtual machine and stored in the file `chocolate-bar-ratings.zip`."
   ]
  },
  {
   "cell_type": "markdown",
   "metadata": {
    "colab_type": "text",
    "id": "A8pOhe8_7YOt"
   },
   "source": [
    "## Creating a `DataFrame`\n",
    "\n",
    "We now need to load the data into memory. We can do this easily using Pandas' `read_csv()` function."
   ]
  },
  {
   "cell_type": "code",
   "execution_count": 1,
   "metadata": {
    "colab": {},
    "colab_type": "code",
    "id": "dEDlbe_L7LEl"
   },
   "outputs": [
    {
     "data": {
      "text/html": [
       "<div>\n",
       "<style scoped>\n",
       "    .dataframe tbody tr th:only-of-type {\n",
       "        vertical-align: middle;\n",
       "    }\n",
       "\n",
       "    .dataframe tbody tr th {\n",
       "        vertical-align: top;\n",
       "    }\n",
       "\n",
       "    .dataframe thead th {\n",
       "        text-align: right;\n",
       "    }\n",
       "</style>\n",
       "<table border=\"1\" class=\"dataframe\">\n",
       "  <thead>\n",
       "    <tr style=\"text-align: right;\">\n",
       "      <th></th>\n",
       "      <th>Company \\n(Maker-if known)</th>\n",
       "      <th>Specific Bean Origin\\nor Bar Name</th>\n",
       "      <th>REF</th>\n",
       "      <th>Review\\nDate</th>\n",
       "      <th>Cocoa\\nPercent</th>\n",
       "      <th>Company\\nLocation</th>\n",
       "      <th>Rating</th>\n",
       "      <th>Bean\\nType</th>\n",
       "      <th>Broad Bean\\nOrigin</th>\n",
       "    </tr>\n",
       "  </thead>\n",
       "  <tbody>\n",
       "    <tr>\n",
       "      <th>0</th>\n",
       "      <td>A. Morin</td>\n",
       "      <td>Agua Grande</td>\n",
       "      <td>1876</td>\n",
       "      <td>2016</td>\n",
       "      <td>63%</td>\n",
       "      <td>France</td>\n",
       "      <td>3.75</td>\n",
       "      <td></td>\n",
       "      <td>Sao Tome</td>\n",
       "    </tr>\n",
       "    <tr>\n",
       "      <th>1</th>\n",
       "      <td>A. Morin</td>\n",
       "      <td>Kpime</td>\n",
       "      <td>1676</td>\n",
       "      <td>2015</td>\n",
       "      <td>70%</td>\n",
       "      <td>France</td>\n",
       "      <td>2.75</td>\n",
       "      <td></td>\n",
       "      <td>Togo</td>\n",
       "    </tr>\n",
       "    <tr>\n",
       "      <th>2</th>\n",
       "      <td>A. Morin</td>\n",
       "      <td>Atsane</td>\n",
       "      <td>1676</td>\n",
       "      <td>2015</td>\n",
       "      <td>70%</td>\n",
       "      <td>France</td>\n",
       "      <td>3.00</td>\n",
       "      <td></td>\n",
       "      <td>Togo</td>\n",
       "    </tr>\n",
       "    <tr>\n",
       "      <th>3</th>\n",
       "      <td>A. Morin</td>\n",
       "      <td>Akata</td>\n",
       "      <td>1680</td>\n",
       "      <td>2015</td>\n",
       "      <td>70%</td>\n",
       "      <td>France</td>\n",
       "      <td>3.50</td>\n",
       "      <td></td>\n",
       "      <td>Togo</td>\n",
       "    </tr>\n",
       "    <tr>\n",
       "      <th>4</th>\n",
       "      <td>A. Morin</td>\n",
       "      <td>Quilla</td>\n",
       "      <td>1704</td>\n",
       "      <td>2015</td>\n",
       "      <td>70%</td>\n",
       "      <td>France</td>\n",
       "      <td>3.50</td>\n",
       "      <td></td>\n",
       "      <td>Peru</td>\n",
       "    </tr>\n",
       "    <tr>\n",
       "      <th>...</th>\n",
       "      <td>...</td>\n",
       "      <td>...</td>\n",
       "      <td>...</td>\n",
       "      <td>...</td>\n",
       "      <td>...</td>\n",
       "      <td>...</td>\n",
       "      <td>...</td>\n",
       "      <td>...</td>\n",
       "      <td>...</td>\n",
       "    </tr>\n",
       "    <tr>\n",
       "      <th>1790</th>\n",
       "      <td>Zotter</td>\n",
       "      <td>Peru</td>\n",
       "      <td>647</td>\n",
       "      <td>2011</td>\n",
       "      <td>70%</td>\n",
       "      <td>Austria</td>\n",
       "      <td>3.75</td>\n",
       "      <td></td>\n",
       "      <td>Peru</td>\n",
       "    </tr>\n",
       "    <tr>\n",
       "      <th>1791</th>\n",
       "      <td>Zotter</td>\n",
       "      <td>Congo</td>\n",
       "      <td>749</td>\n",
       "      <td>2011</td>\n",
       "      <td>65%</td>\n",
       "      <td>Austria</td>\n",
       "      <td>3.00</td>\n",
       "      <td>Forastero</td>\n",
       "      <td>Congo</td>\n",
       "    </tr>\n",
       "    <tr>\n",
       "      <th>1792</th>\n",
       "      <td>Zotter</td>\n",
       "      <td>Kerala State</td>\n",
       "      <td>749</td>\n",
       "      <td>2011</td>\n",
       "      <td>65%</td>\n",
       "      <td>Austria</td>\n",
       "      <td>3.50</td>\n",
       "      <td>Forastero</td>\n",
       "      <td>India</td>\n",
       "    </tr>\n",
       "    <tr>\n",
       "      <th>1793</th>\n",
       "      <td>Zotter</td>\n",
       "      <td>Kerala State</td>\n",
       "      <td>781</td>\n",
       "      <td>2011</td>\n",
       "      <td>62%</td>\n",
       "      <td>Austria</td>\n",
       "      <td>3.25</td>\n",
       "      <td></td>\n",
       "      <td>India</td>\n",
       "    </tr>\n",
       "    <tr>\n",
       "      <th>1794</th>\n",
       "      <td>Zotter</td>\n",
       "      <td>Brazil, Mitzi Blue</td>\n",
       "      <td>486</td>\n",
       "      <td>2010</td>\n",
       "      <td>65%</td>\n",
       "      <td>Austria</td>\n",
       "      <td>3.00</td>\n",
       "      <td></td>\n",
       "      <td>Brazil</td>\n",
       "    </tr>\n",
       "  </tbody>\n",
       "</table>\n",
       "<p>1795 rows × 9 columns</p>\n",
       "</div>"
      ],
      "text/plain": [
       "     Company \\n(Maker-if known) Specific Bean Origin\\nor Bar Name   REF  \\\n",
       "0                      A. Morin                       Agua Grande  1876   \n",
       "1                      A. Morin                             Kpime  1676   \n",
       "2                      A. Morin                            Atsane  1676   \n",
       "3                      A. Morin                             Akata  1680   \n",
       "4                      A. Morin                            Quilla  1704   \n",
       "...                         ...                               ...   ...   \n",
       "1790                     Zotter                              Peru   647   \n",
       "1791                     Zotter                             Congo   749   \n",
       "1792                     Zotter                      Kerala State   749   \n",
       "1793                     Zotter                      Kerala State   781   \n",
       "1794                     Zotter                Brazil, Mitzi Blue   486   \n",
       "\n",
       "      Review\\nDate Cocoa\\nPercent Company\\nLocation  Rating Bean\\nType  \\\n",
       "0             2016            63%            France    3.75              \n",
       "1             2015            70%            France    2.75              \n",
       "2             2015            70%            France    3.00              \n",
       "3             2015            70%            France    3.50              \n",
       "4             2015            70%            France    3.50              \n",
       "...            ...            ...               ...     ...        ...   \n",
       "1790          2011            70%           Austria    3.75              \n",
       "1791          2011            65%           Austria    3.00  Forastero   \n",
       "1792          2011            65%           Austria    3.50  Forastero   \n",
       "1793          2011            62%           Austria    3.25              \n",
       "1794          2010            65%           Austria    3.00              \n",
       "\n",
       "     Broad Bean\\nOrigin  \n",
       "0              Sao Tome  \n",
       "1                  Togo  \n",
       "2                  Togo  \n",
       "3                  Togo  \n",
       "4                  Peru  \n",
       "...                 ...  \n",
       "1790               Peru  \n",
       "1791              Congo  \n",
       "1792              India  \n",
       "1793              India  \n",
       "1794             Brazil  \n",
       "\n",
       "[1795 rows x 9 columns]"
      ]
     },
     "execution_count": 1,
     "metadata": {},
     "output_type": "execute_result"
    }
   ],
   "source": [
    "import pandas as pd\n",
    "\n",
    "df = pd.read_csv('chocolate-bar-ratings.zip')\n",
    "df"
   ]
  },
  {
   "cell_type": "markdown",
   "metadata": {
    "colab_type": "text",
    "id": "BNK6_wRAUK8g"
   },
   "source": [
    "Let's also make sure that our data types match what was documented:"
   ]
  },
  {
   "cell_type": "code",
   "execution_count": 2,
   "metadata": {
    "colab": {},
    "colab_type": "code",
    "id": "igRLU1b4UOaK"
   },
   "outputs": [
    {
     "data": {
      "text/plain": [
       "Company \\n(Maker-if known)            object\n",
       "Specific Bean Origin\\nor Bar Name     object\n",
       "REF                                    int64\n",
       "Review\\nDate                           int64\n",
       "Cocoa\\nPercent                        object\n",
       "Company\\nLocation                     object\n",
       "Rating                               float64\n",
       "Bean\\nType                            object\n",
       "Broad Bean\\nOrigin                    object\n",
       "dtype: object"
      ]
     },
     "execution_count": 2,
     "metadata": {},
     "output_type": "execute_result"
    }
   ],
   "source": [
    "df.dtypes"
   ]
  },
  {
   "cell_type": "markdown",
   "metadata": {
    "colab_type": "text",
    "id": "RwASf5wWUQvK"
   },
   "source": [
    "In this output, `object` types are strings while `int64` types are whole numbers and `float64` types are fractional numbers. This seems to match the documentation that we saw for the dataset."
   ]
  },
  {
   "cell_type": "markdown",
   "metadata": {
    "colab_type": "text",
    "id": "oHYaN8iV7v8_"
   },
   "source": [
    "From just a glance at the `DataFrame`, we can see a few facts about our data:\n",
    "\n",
    "* There are 1,795 rows and 9 columns.\n",
    "* The columns are the columns we expected based on the documentation, though some have `\\n` (new line) embedded in them. We'll need to clean that up.\n",
    "* The data seems to be sorted by the 'Company' column.\n",
    "* There is definitely some missing data, as we can see in the 'Bean Type' column.\n",
    "\n",
    "We will look more closely at each column throughout this lab."
   ]
  },
  {
   "cell_type": "markdown",
   "metadata": {
    "colab_type": "text",
    "id": "2rQzustf9B4b"
   },
   "source": [
    "## Cleaning Up Column Names\n",
    "\n",
    "One of the more frustrating aspects of this dataset is the poor format of the column names. Typing 'Specific Bean Origin\\nor Bar Name' in order to access the column is painful.\n",
    "\n",
    "So our first order of business will be to update the column names."
   ]
  },
  {
   "cell_type": "code",
   "execution_count": 3,
   "metadata": {
    "colab": {},
    "colab_type": "code",
    "id": "iBb6frD19ZEp"
   },
   "outputs": [
    {
     "data": {
      "text/html": [
       "<div>\n",
       "<style scoped>\n",
       "    .dataframe tbody tr th:only-of-type {\n",
       "        vertical-align: middle;\n",
       "    }\n",
       "\n",
       "    .dataframe tbody tr th {\n",
       "        vertical-align: top;\n",
       "    }\n",
       "\n",
       "    .dataframe thead th {\n",
       "        text-align: right;\n",
       "    }\n",
       "</style>\n",
       "<table border=\"1\" class=\"dataframe\">\n",
       "  <thead>\n",
       "    <tr style=\"text-align: right;\">\n",
       "      <th></th>\n",
       "      <th>Company</th>\n",
       "      <th>Specific Bean Origin</th>\n",
       "      <th>REF</th>\n",
       "      <th>Review Date</th>\n",
       "      <th>Cocoa Percent</th>\n",
       "      <th>Company Location</th>\n",
       "      <th>Rating</th>\n",
       "      <th>Bean Type</th>\n",
       "      <th>Broad Bean Origin</th>\n",
       "    </tr>\n",
       "  </thead>\n",
       "  <tbody>\n",
       "    <tr>\n",
       "      <th>0</th>\n",
       "      <td>A. Morin</td>\n",
       "      <td>Agua Grande</td>\n",
       "      <td>1876</td>\n",
       "      <td>2016</td>\n",
       "      <td>63%</td>\n",
       "      <td>France</td>\n",
       "      <td>3.75</td>\n",
       "      <td></td>\n",
       "      <td>Sao Tome</td>\n",
       "    </tr>\n",
       "    <tr>\n",
       "      <th>1</th>\n",
       "      <td>A. Morin</td>\n",
       "      <td>Kpime</td>\n",
       "      <td>1676</td>\n",
       "      <td>2015</td>\n",
       "      <td>70%</td>\n",
       "      <td>France</td>\n",
       "      <td>2.75</td>\n",
       "      <td></td>\n",
       "      <td>Togo</td>\n",
       "    </tr>\n",
       "    <tr>\n",
       "      <th>2</th>\n",
       "      <td>A. Morin</td>\n",
       "      <td>Atsane</td>\n",
       "      <td>1676</td>\n",
       "      <td>2015</td>\n",
       "      <td>70%</td>\n",
       "      <td>France</td>\n",
       "      <td>3.00</td>\n",
       "      <td></td>\n",
       "      <td>Togo</td>\n",
       "    </tr>\n",
       "    <tr>\n",
       "      <th>3</th>\n",
       "      <td>A. Morin</td>\n",
       "      <td>Akata</td>\n",
       "      <td>1680</td>\n",
       "      <td>2015</td>\n",
       "      <td>70%</td>\n",
       "      <td>France</td>\n",
       "      <td>3.50</td>\n",
       "      <td></td>\n",
       "      <td>Togo</td>\n",
       "    </tr>\n",
       "    <tr>\n",
       "      <th>4</th>\n",
       "      <td>A. Morin</td>\n",
       "      <td>Quilla</td>\n",
       "      <td>1704</td>\n",
       "      <td>2015</td>\n",
       "      <td>70%</td>\n",
       "      <td>France</td>\n",
       "      <td>3.50</td>\n",
       "      <td></td>\n",
       "      <td>Peru</td>\n",
       "    </tr>\n",
       "    <tr>\n",
       "      <th>...</th>\n",
       "      <td>...</td>\n",
       "      <td>...</td>\n",
       "      <td>...</td>\n",
       "      <td>...</td>\n",
       "      <td>...</td>\n",
       "      <td>...</td>\n",
       "      <td>...</td>\n",
       "      <td>...</td>\n",
       "      <td>...</td>\n",
       "    </tr>\n",
       "    <tr>\n",
       "      <th>1790</th>\n",
       "      <td>Zotter</td>\n",
       "      <td>Peru</td>\n",
       "      <td>647</td>\n",
       "      <td>2011</td>\n",
       "      <td>70%</td>\n",
       "      <td>Austria</td>\n",
       "      <td>3.75</td>\n",
       "      <td></td>\n",
       "      <td>Peru</td>\n",
       "    </tr>\n",
       "    <tr>\n",
       "      <th>1791</th>\n",
       "      <td>Zotter</td>\n",
       "      <td>Congo</td>\n",
       "      <td>749</td>\n",
       "      <td>2011</td>\n",
       "      <td>65%</td>\n",
       "      <td>Austria</td>\n",
       "      <td>3.00</td>\n",
       "      <td>Forastero</td>\n",
       "      <td>Congo</td>\n",
       "    </tr>\n",
       "    <tr>\n",
       "      <th>1792</th>\n",
       "      <td>Zotter</td>\n",
       "      <td>Kerala State</td>\n",
       "      <td>749</td>\n",
       "      <td>2011</td>\n",
       "      <td>65%</td>\n",
       "      <td>Austria</td>\n",
       "      <td>3.50</td>\n",
       "      <td>Forastero</td>\n",
       "      <td>India</td>\n",
       "    </tr>\n",
       "    <tr>\n",
       "      <th>1793</th>\n",
       "      <td>Zotter</td>\n",
       "      <td>Kerala State</td>\n",
       "      <td>781</td>\n",
       "      <td>2011</td>\n",
       "      <td>62%</td>\n",
       "      <td>Austria</td>\n",
       "      <td>3.25</td>\n",
       "      <td></td>\n",
       "      <td>India</td>\n",
       "    </tr>\n",
       "    <tr>\n",
       "      <th>1794</th>\n",
       "      <td>Zotter</td>\n",
       "      <td>Brazil, Mitzi Blue</td>\n",
       "      <td>486</td>\n",
       "      <td>2010</td>\n",
       "      <td>65%</td>\n",
       "      <td>Austria</td>\n",
       "      <td>3.00</td>\n",
       "      <td></td>\n",
       "      <td>Brazil</td>\n",
       "    </tr>\n",
       "  </tbody>\n",
       "</table>\n",
       "<p>1795 rows × 9 columns</p>\n",
       "</div>"
      ],
      "text/plain": [
       "       Company Specific Bean Origin   REF  Review Date Cocoa Percent  \\\n",
       "0     A. Morin          Agua Grande  1876         2016           63%   \n",
       "1     A. Morin                Kpime  1676         2015           70%   \n",
       "2     A. Morin               Atsane  1676         2015           70%   \n",
       "3     A. Morin                Akata  1680         2015           70%   \n",
       "4     A. Morin               Quilla  1704         2015           70%   \n",
       "...        ...                  ...   ...          ...           ...   \n",
       "1790    Zotter                 Peru   647         2011           70%   \n",
       "1791    Zotter                Congo   749         2011           65%   \n",
       "1792    Zotter         Kerala State   749         2011           65%   \n",
       "1793    Zotter         Kerala State   781         2011           62%   \n",
       "1794    Zotter   Brazil, Mitzi Blue   486         2010           65%   \n",
       "\n",
       "     Company Location  Rating  Bean Type Broad Bean Origin  \n",
       "0              France    3.75                     Sao Tome  \n",
       "1              France    2.75                         Togo  \n",
       "2              France    3.00                         Togo  \n",
       "3              France    3.50                         Togo  \n",
       "4              France    3.50                         Peru  \n",
       "...               ...     ...        ...               ...  \n",
       "1790          Austria    3.75                         Peru  \n",
       "1791          Austria    3.00  Forastero             Congo  \n",
       "1792          Austria    3.50  Forastero             India  \n",
       "1793          Austria    3.25                        India  \n",
       "1794          Austria    3.00                       Brazil  \n",
       "\n",
       "[1795 rows x 9 columns]"
      ]
     },
     "execution_count": 3,
     "metadata": {},
     "output_type": "execute_result"
    }
   ],
   "source": [
    "df.columns = [\n",
    "  'Company',\n",
    "  'Specific Bean Origin',\n",
    "  'REF',\n",
    "  'Review Date',\n",
    "  'Cocoa Percent',\n",
    "  'Company Location',\n",
    "  'Rating',\n",
    "  'Bean Type',\n",
    "  'Broad Bean Origin'\n",
    "]\n",
    "\n",
    "df"
   ]
  },
  {
   "cell_type": "markdown",
   "metadata": {
    "colab_type": "text",
    "id": "Pac1xBZk_TtO"
   },
   "source": [
    "That's much better, but the columns are also in an odd order. Information about the company is spread across the columns, and so is the information about the cacao bean. Let's order the columns a little more meaningfully.\n",
    "\n",
    "This order makes a little more sense:\n",
    "\n",
    "**Company Information:**\n",
    "* Company\n",
    "* Company Location\n",
    "\n",
    "**Chocolate Bar Information**\n",
    "* Bean Type\n",
    "* Specific Bean Origin\n",
    "* Broad Bean Origin\n",
    "* Cocoa Percent\n",
    "\n",
    "**Review Information**\n",
    "* REF\n",
    "* Review Date\n",
    "* Rating\n",
    "\n",
    "We can reorder the columns by specifically selecting the columns in order and reassigning them to the `df` variable:"
   ]
  },
  {
   "cell_type": "code",
   "execution_count": 4,
   "metadata": {
    "colab": {},
    "colab_type": "code",
    "id": "8OzxV-x66YKS"
   },
   "outputs": [
    {
     "data": {
      "text/html": [
       "<div>\n",
       "<style scoped>\n",
       "    .dataframe tbody tr th:only-of-type {\n",
       "        vertical-align: middle;\n",
       "    }\n",
       "\n",
       "    .dataframe tbody tr th {\n",
       "        vertical-align: top;\n",
       "    }\n",
       "\n",
       "    .dataframe thead th {\n",
       "        text-align: right;\n",
       "    }\n",
       "</style>\n",
       "<table border=\"1\" class=\"dataframe\">\n",
       "  <thead>\n",
       "    <tr style=\"text-align: right;\">\n",
       "      <th></th>\n",
       "      <th>Company</th>\n",
       "      <th>Company Location</th>\n",
       "      <th>Bean Type</th>\n",
       "      <th>Specific Bean Origin</th>\n",
       "      <th>Broad Bean Origin</th>\n",
       "      <th>Cocoa Percent</th>\n",
       "      <th>REF</th>\n",
       "      <th>Review Date</th>\n",
       "      <th>Rating</th>\n",
       "    </tr>\n",
       "  </thead>\n",
       "  <tbody>\n",
       "    <tr>\n",
       "      <th>0</th>\n",
       "      <td>A. Morin</td>\n",
       "      <td>France</td>\n",
       "      <td></td>\n",
       "      <td>Agua Grande</td>\n",
       "      <td>Sao Tome</td>\n",
       "      <td>63%</td>\n",
       "      <td>1876</td>\n",
       "      <td>2016</td>\n",
       "      <td>3.75</td>\n",
       "    </tr>\n",
       "    <tr>\n",
       "      <th>1</th>\n",
       "      <td>A. Morin</td>\n",
       "      <td>France</td>\n",
       "      <td></td>\n",
       "      <td>Kpime</td>\n",
       "      <td>Togo</td>\n",
       "      <td>70%</td>\n",
       "      <td>1676</td>\n",
       "      <td>2015</td>\n",
       "      <td>2.75</td>\n",
       "    </tr>\n",
       "    <tr>\n",
       "      <th>2</th>\n",
       "      <td>A. Morin</td>\n",
       "      <td>France</td>\n",
       "      <td></td>\n",
       "      <td>Atsane</td>\n",
       "      <td>Togo</td>\n",
       "      <td>70%</td>\n",
       "      <td>1676</td>\n",
       "      <td>2015</td>\n",
       "      <td>3.00</td>\n",
       "    </tr>\n",
       "    <tr>\n",
       "      <th>3</th>\n",
       "      <td>A. Morin</td>\n",
       "      <td>France</td>\n",
       "      <td></td>\n",
       "      <td>Akata</td>\n",
       "      <td>Togo</td>\n",
       "      <td>70%</td>\n",
       "      <td>1680</td>\n",
       "      <td>2015</td>\n",
       "      <td>3.50</td>\n",
       "    </tr>\n",
       "    <tr>\n",
       "      <th>4</th>\n",
       "      <td>A. Morin</td>\n",
       "      <td>France</td>\n",
       "      <td></td>\n",
       "      <td>Quilla</td>\n",
       "      <td>Peru</td>\n",
       "      <td>70%</td>\n",
       "      <td>1704</td>\n",
       "      <td>2015</td>\n",
       "      <td>3.50</td>\n",
       "    </tr>\n",
       "    <tr>\n",
       "      <th>...</th>\n",
       "      <td>...</td>\n",
       "      <td>...</td>\n",
       "      <td>...</td>\n",
       "      <td>...</td>\n",
       "      <td>...</td>\n",
       "      <td>...</td>\n",
       "      <td>...</td>\n",
       "      <td>...</td>\n",
       "      <td>...</td>\n",
       "    </tr>\n",
       "    <tr>\n",
       "      <th>1790</th>\n",
       "      <td>Zotter</td>\n",
       "      <td>Austria</td>\n",
       "      <td></td>\n",
       "      <td>Peru</td>\n",
       "      <td>Peru</td>\n",
       "      <td>70%</td>\n",
       "      <td>647</td>\n",
       "      <td>2011</td>\n",
       "      <td>3.75</td>\n",
       "    </tr>\n",
       "    <tr>\n",
       "      <th>1791</th>\n",
       "      <td>Zotter</td>\n",
       "      <td>Austria</td>\n",
       "      <td>Forastero</td>\n",
       "      <td>Congo</td>\n",
       "      <td>Congo</td>\n",
       "      <td>65%</td>\n",
       "      <td>749</td>\n",
       "      <td>2011</td>\n",
       "      <td>3.00</td>\n",
       "    </tr>\n",
       "    <tr>\n",
       "      <th>1792</th>\n",
       "      <td>Zotter</td>\n",
       "      <td>Austria</td>\n",
       "      <td>Forastero</td>\n",
       "      <td>Kerala State</td>\n",
       "      <td>India</td>\n",
       "      <td>65%</td>\n",
       "      <td>749</td>\n",
       "      <td>2011</td>\n",
       "      <td>3.50</td>\n",
       "    </tr>\n",
       "    <tr>\n",
       "      <th>1793</th>\n",
       "      <td>Zotter</td>\n",
       "      <td>Austria</td>\n",
       "      <td></td>\n",
       "      <td>Kerala State</td>\n",
       "      <td>India</td>\n",
       "      <td>62%</td>\n",
       "      <td>781</td>\n",
       "      <td>2011</td>\n",
       "      <td>3.25</td>\n",
       "    </tr>\n",
       "    <tr>\n",
       "      <th>1794</th>\n",
       "      <td>Zotter</td>\n",
       "      <td>Austria</td>\n",
       "      <td></td>\n",
       "      <td>Brazil, Mitzi Blue</td>\n",
       "      <td>Brazil</td>\n",
       "      <td>65%</td>\n",
       "      <td>486</td>\n",
       "      <td>2010</td>\n",
       "      <td>3.00</td>\n",
       "    </tr>\n",
       "  </tbody>\n",
       "</table>\n",
       "<p>1795 rows × 9 columns</p>\n",
       "</div>"
      ],
      "text/plain": [
       "       Company Company Location  Bean Type Specific Bean Origin  \\\n",
       "0     A. Morin           France                     Agua Grande   \n",
       "1     A. Morin           France                           Kpime   \n",
       "2     A. Morin           France                          Atsane   \n",
       "3     A. Morin           France                           Akata   \n",
       "4     A. Morin           France                          Quilla   \n",
       "...        ...              ...        ...                  ...   \n",
       "1790    Zotter          Austria                            Peru   \n",
       "1791    Zotter          Austria  Forastero                Congo   \n",
       "1792    Zotter          Austria  Forastero         Kerala State   \n",
       "1793    Zotter          Austria                    Kerala State   \n",
       "1794    Zotter          Austria              Brazil, Mitzi Blue   \n",
       "\n",
       "     Broad Bean Origin Cocoa Percent   REF  Review Date  Rating  \n",
       "0             Sao Tome           63%  1876         2016    3.75  \n",
       "1                 Togo           70%  1676         2015    2.75  \n",
       "2                 Togo           70%  1676         2015    3.00  \n",
       "3                 Togo           70%  1680         2015    3.50  \n",
       "4                 Peru           70%  1704         2015    3.50  \n",
       "...                ...           ...   ...          ...     ...  \n",
       "1790              Peru           70%   647         2011    3.75  \n",
       "1791             Congo           65%   749         2011    3.00  \n",
       "1792             India           65%   749         2011    3.50  \n",
       "1793             India           62%   781         2011    3.25  \n",
       "1794            Brazil           65%   486         2010    3.00  \n",
       "\n",
       "[1795 rows x 9 columns]"
      ]
     },
     "execution_count": 4,
     "metadata": {},
     "output_type": "execute_result"
    }
   ],
   "source": [
    "df = df[[\n",
    "  'Company',\n",
    "  'Company Location',\n",
    "  'Bean Type',\n",
    "  'Specific Bean Origin',\n",
    "  'Broad Bean Origin',\n",
    "  'Cocoa Percent',\n",
    "  'REF',\n",
    "  'Review Date',\n",
    "  'Rating',\n",
    "]]\n",
    "\n",
    "df"
   ]
  },
  {
   "cell_type": "markdown",
   "metadata": {
    "colab_type": "text",
    "id": "y-gRkwD89Ycv"
   },
   "source": [
    "## Examining Each Column\n",
    "\n",
    "\n",
    "In this section we will examine each column to learn about the data in the column. We will also make changes to the data as needed."
   ]
  },
  {
   "cell_type": "markdown",
   "metadata": {
    "colab_type": "text",
    "id": "dEe__vNL_pA4"
   },
   "source": [
    "### Column: Company"
   ]
  },
  {
   "cell_type": "markdown",
   "metadata": {
    "colab_type": "text",
    "id": "uA6heaR7TlmX"
   },
   "source": [
    "The 'Company' column is the first in the list, so let's look at it first.\n",
    "\n",
    "We can tell that the column contains string values. Let's see if any are missing:"
   ]
  },
  {
   "cell_type": "code",
   "execution_count": null,
   "metadata": {
    "colab": {},
    "colab_type": "code",
    "id": "UWkigEjU_3cn"
   },
   "outputs": [],
   "source": [
    "df['Company'].isnull().any()"
   ]
  },
  {
   "cell_type": "markdown",
   "metadata": {
    "colab_type": "text",
    "id": "8qyTNSA3AOWe"
   },
   "source": [
    "No data is missing. Let's now see how many distinct values there are:"
   ]
  },
  {
   "cell_type": "code",
   "execution_count": null,
   "metadata": {
    "colab": {},
    "colab_type": "code",
    "id": "O-nr1--gATSg"
   },
   "outputs": [],
   "source": [
    "df['Company'].unique().size"
   ]
  },
  {
   "cell_type": "markdown",
   "metadata": {
    "colab_type": "text",
    "id": "PjeigrI6AZgo"
   },
   "source": [
    "A few hundred is not a terribly long list. Let's print the list in alphabetical order to see how it looks."
   ]
  },
  {
   "cell_type": "code",
   "execution_count": null,
   "metadata": {
    "colab": {},
    "colab_type": "code",
    "id": "_POI-9fCAgAi"
   },
   "outputs": [],
   "source": [
    "for company in sorted(df['Company'].unique()):\n",
    "  print(company)"
   ]
  },
  {
   "cell_type": "markdown",
   "metadata": {
    "colab_type": "text",
    "id": "k8E5wwxVCFqd"
   },
   "source": [
    "This is some interesting data. Looking at it raises many questions. For instance:\n",
    "\n",
    "* Should company names like 'Vintage Plantations' and 'Vintage Plantations (Tulicorp)' be changed to the same name?\n",
    "* Is 'Cacao de Origin' a misspelling of 'Cacao de Origen'?\n",
    "* Is 'Shattel' a misspelling of 'Shattell'?\n",
    "\n",
    "These are the types of things you'll see and questions you'll ask when you encounter a new dataset. Rarely is the data in perfect condition. Often you'll spend a considerable amount of time researching topics related to the data in order to make a call about repairing aspects of the data.\n",
    "\n",
    "In this particular case, it would be great if we could find a master list of all of the chocolate makers in the world. We could then cross reference the names in the dataset with the names in the master list.\n",
    "\n",
    "Unfortunately, we don't have a master list of chocolate makers. Instead, we will have to rely on manually inspecting the data and researching when things don't look right.\n",
    "\n",
    "Let's say that for now we are confident that 'Cacao de Origin' and 'Shattel' are misspellings, so we will correct that data. We aren't confident enough to change any of the names with parentheses in them though.\n",
    "\n",
    "Let's fix our misspellings!"
   ]
  },
  {
   "cell_type": "markdown",
   "metadata": {
    "colab_type": "text",
    "id": "2Vc78yFJFLw5"
   },
   "source": [
    "#### Exercise 1: Fixing Misspellings\n",
    "\n",
    "We have decided that we would like to change every instance of 'Cacao de Origin' to 'Cacao de Origen' and every instance of 'Shattel' to 'Shattell' in the 'Company' column of our dataset. Write the code to modify the values. Make sure your code doesn't have any warnings. At the end of the code block, print the number of unique company names when you are done. There should be two less columns than what you saw above."
   ]
  },
  {
   "cell_type": "markdown",
   "metadata": {
    "colab_type": "text",
    "id": "Pag-PfyLG69x"
   },
   "source": [
    "**Student Solution**"
   ]
  },
  {
   "cell_type": "code",
   "execution_count": 7,
   "metadata": {
    "colab": {},
    "colab_type": "code",
    "id": "p4pKMDONG9Z4"
   },
   "outputs": [
    {
     "data": {
      "text/plain": [
       "414"
      ]
     },
     "execution_count": 7,
     "metadata": {},
     "output_type": "execute_result"
    }
   ],
   "source": [
    "import pandas as pd\n",
    "import numpy as np\n",
    "\n",
    "df = pd.read_csv('chocolate-bar-ratings.zip')\n",
    "df.columns = ['Company', 'Specific Bean Origin', 'REF', 'Review Date',\n",
    "              'Cocoa Percent', 'Company Location', 'Rating', 'Bean Type',\n",
    "              'Broad Bean Origin']\n",
    "df = df[['Company', 'Company Location', 'Bean Type', 'Specific Bean Origin',\n",
    "         'Broad Bean Origin', 'Cocoa Percent', 'REF', 'Review Date', 'Rating']]\n",
    "\n",
    "# Change 'Shattel' to 'Shattell'\n",
    "df['Company'] = np.where(df['Company'] == 'Shattel', 'Shattell', df['Company'])\n",
    "\n",
    "# Change 'Cacao de Origin' to 'Cacao de Origen'\n",
    "df['Company'] = np.where(df['Company'] == 'Cacao de Origin', 'Cacao de Origen', df['Company'])\n",
    "\n",
    "# Print the number of unique company names\n",
    "df['Company'].nunique()"
   ]
  },
  {
   "cell_type": "markdown",
   "metadata": {
    "colab_type": "text",
    "id": "dIAOmyuWHMa_"
   },
   "source": [
    "---"
   ]
  },
  {
   "cell_type": "markdown",
   "metadata": {
    "colab_type": "text",
    "id": "ac0L7_QP7OTm"
   },
   "source": [
    "### Column: Company Location"
   ]
  },
  {
   "cell_type": "markdown",
   "metadata": {
    "colab_type": "text",
    "id": "84LQDf9d7OTk"
   },
   "source": [
    "The [documentation](https://www.kaggle.com/rtatman/chocolate-bar-ratings) describes the 'Company Location' column as \"*Manufacturer base country*.\"\n",
    "\n",
    "Let's take a look at the data. As always, we'll first check to see if any data is missing."
   ]
  },
  {
   "cell_type": "code",
   "execution_count": null,
   "metadata": {
    "colab": {},
    "colab_type": "code",
    "id": "oTTcRMFq7OTe"
   },
   "outputs": [],
   "source": [
    "df['Company Location'].isna().any()"
   ]
  },
  {
   "cell_type": "markdown",
   "metadata": {
    "colab_type": "text",
    "id": "NjjMjZqj7OTc"
   },
   "source": [
    "No missing data.\n",
    "\n",
    "Now we can see how many unique values there are:"
   ]
  },
  {
   "cell_type": "code",
   "execution_count": null,
   "metadata": {
    "colab": {},
    "colab_type": "code",
    "id": "aSzY7dlr7OTT"
   },
   "outputs": [],
   "source": [
    "df['Company Location'].unique().shape"
   ]
  },
  {
   "cell_type": "markdown",
   "metadata": {
    "colab_type": "text",
    "id": "MLjkdqps7OTN"
   },
   "source": [
    "There are just 60 locations, which is small enough that we can manually inspect the values. Let's print the data."
   ]
  },
  {
   "cell_type": "code",
   "execution_count": null,
   "metadata": {
    "colab": {},
    "colab_type": "code",
    "id": "nGFKHE2B7OS5"
   },
   "outputs": [],
   "source": [
    "for location in sorted(df['Company Location'].unique()):\n",
    "  print(location)"
   ]
  },
  {
   "cell_type": "markdown",
   "metadata": {
    "colab_type": "text",
    "id": "sJqm2iCU7OSt"
   },
   "source": [
    "Overall, the data looks pretty clean. The column is supposed to contain countries and *most* entries are countries. There are a few problems with the country data though. We found at least five errors in the data. Let's see what you can find."
   ]
  },
  {
   "cell_type": "markdown",
   "metadata": {
    "colab_type": "text",
    "id": "_d7_RrV_-DPP"
   },
   "source": [
    "#### Exercise 2: Fixing Company Location Data\n",
    "\n",
    "There are at least five errors in the company location data that need to be fixed. Some are fairly easy to spot (spelling errors), but some do require knowledge of what constitutes a country. Take some time to look at the data, and see if you can spot at least two of the issues. Write code to fix the issues."
   ]
  },
  {
   "cell_type": "markdown",
   "metadata": {
    "colab_type": "text",
    "id": "p2uvJNxo-DD8"
   },
   "source": [
    "**Student Solution**"
   ]
  },
  {
   "cell_type": "code",
   "execution_count": 8,
   "metadata": {
    "colab": {},
    "colab_type": "code",
    "id": "1eBSJfCp-C4-"
   },
   "outputs": [],
   "source": [
    "# Fix at least two issues with the 'Company Location' data\n",
    "df['Company Location'] = np.where(df['Company Location'] == 'Nicragua', 'Nicaragua', df['Company Location'])\n",
    "df['Company Location'] = np.where(df['Company Location'] == 'Domincan Republic', 'Dominican Republic', df['Company Location'])"
   ]
  },
  {
   "cell_type": "markdown",
   "metadata": {
    "colab_type": "text",
    "id": "s5toiHcB-CvH"
   },
   "source": [
    "---"
   ]
  },
  {
   "cell_type": "markdown",
   "metadata": {
    "colab_type": "text",
    "id": "nA_FefG8dtJQ"
   },
   "source": [
    "### Column: Bean Type"
   ]
  },
  {
   "cell_type": "markdown",
   "metadata": {
    "colab_type": "text",
    "id": "4ibiKPxvCCoA"
   },
   "source": [
    "Now that our company data is looking a little better, let's move into data about the cocoa going into the chocolate bar itself. The first piece of data is the 'Bean Type'. 'Bean Type' is defined as \"*The variety (breed) of bean used, if provided*\". This hints that there will be some missing data. Let's check and see."
   ]
  },
  {
   "cell_type": "code",
   "execution_count": null,
   "metadata": {
    "colab": {},
    "colab_type": "code",
    "id": "ulcp5RH0CbJs"
   },
   "outputs": [],
   "source": [
    "df['Bean Type'].isna().any()"
   ]
  },
  {
   "cell_type": "markdown",
   "metadata": {
    "colab_type": "text",
    "id": "ER7siTrsCe4m"
   },
   "source": [
    "Indeed, we have missing data. Let's see how much is missing."
   ]
  },
  {
   "cell_type": "code",
   "execution_count": null,
   "metadata": {
    "colab": {},
    "colab_type": "code",
    "id": "NEqYfWsxCnlt"
   },
   "outputs": [],
   "source": [
    "df[df['Bean Type'].isna()].count()"
   ]
  },
  {
   "cell_type": "markdown",
   "metadata": {
    "colab_type": "text",
    "id": "CZwRD78JC6sK"
   },
   "source": [
    "Only one row of data is missing 'Bean Type'. Let's take a look at that row."
   ]
  },
  {
   "cell_type": "markdown",
   "metadata": {},
   "source": [
    "- MNAR: Not missing at random.\n",
    "- MAR: Missing at random.\n",
    "- MCAR: Completely missing at random"
   ]
  },
  {
   "cell_type": "code",
   "execution_count": 9,
   "metadata": {
    "colab": {},
    "colab_type": "code",
    "id": "ZvSyoal2DBCH"
   },
   "outputs": [
    {
     "data": {
      "text/html": [
       "<div>\n",
       "<style scoped>\n",
       "    .dataframe tbody tr th:only-of-type {\n",
       "        vertical-align: middle;\n",
       "    }\n",
       "\n",
       "    .dataframe tbody tr th {\n",
       "        vertical-align: top;\n",
       "    }\n",
       "\n",
       "    .dataframe thead th {\n",
       "        text-align: right;\n",
       "    }\n",
       "</style>\n",
       "<table border=\"1\" class=\"dataframe\">\n",
       "  <thead>\n",
       "    <tr style=\"text-align: right;\">\n",
       "      <th></th>\n",
       "      <th>Company</th>\n",
       "      <th>Company Location</th>\n",
       "      <th>Bean Type</th>\n",
       "      <th>Specific Bean Origin</th>\n",
       "      <th>Broad Bean Origin</th>\n",
       "      <th>Cocoa Percent</th>\n",
       "      <th>REF</th>\n",
       "      <th>Review Date</th>\n",
       "      <th>Rating</th>\n",
       "    </tr>\n",
       "  </thead>\n",
       "  <tbody>\n",
       "    <tr>\n",
       "      <th>1544</th>\n",
       "      <td>Soma</td>\n",
       "      <td>Canada</td>\n",
       "      <td>NaN</td>\n",
       "      <td>Three Amigos(Chuao, Wild Bolivia, D.R.)</td>\n",
       "      <td>Ven, Bolivia, D.R.</td>\n",
       "      <td>70%</td>\n",
       "      <td>676</td>\n",
       "      <td>2011</td>\n",
       "      <td>4.0</td>\n",
       "    </tr>\n",
       "  </tbody>\n",
       "</table>\n",
       "</div>"
      ],
      "text/plain": [
       "     Company Company Location Bean Type  \\\n",
       "1544    Soma           Canada       NaN   \n",
       "\n",
       "                         Specific Bean Origin   Broad Bean Origin  \\\n",
       "1544  Three Amigos(Chuao, Wild Bolivia, D.R.)  Ven, Bolivia, D.R.   \n",
       "\n",
       "     Cocoa Percent  REF  Review Date  Rating  \n",
       "1544           70%  676         2011     4.0  "
      ]
     },
     "execution_count": 9,
     "metadata": {},
     "output_type": "execute_result"
    }
   ],
   "source": [
    "df[df['Bean Type'].isna()]"
   ]
  },
  {
   "cell_type": "markdown",
   "metadata": {
    "colab_type": "text",
    "id": "SWnKcJ5HDF5B"
   },
   "source": [
    "Now we have a choice to make about how to handle this missing data. Some options include:\n",
    "\n",
    "* Leave it as is\n",
    "* Remove the entire row\n",
    "* Fill in the data with some value\n",
    "\n",
    "Leaving undefined values lying around in our data can be problematic. Missing values are not counted and can be tricky to program around.\n",
    "\n",
    "Removing the entire row actually isn't a bad option in this case. Since it is only one row out of over 1,700, it likely won't have too much effect on any analysis that we do.\n",
    "\n",
    "As for filling in the row, we can:\n",
    "\n",
    "* Use 'Unknown' or some other placeholder value\n",
    "* Actually do research to find the true missing value\n",
    "* See if there is a reasonable value already in the data\n",
    "\n",
    "In this case, we are just going to replace the missing value with 'Unknown'."
   ]
  },
  {
   "cell_type": "code",
   "execution_count": 10,
   "metadata": {
    "colab": {},
    "colab_type": "code",
    "id": "qCVeiD-2E3MN"
   },
   "outputs": [
    {
     "data": {
      "text/html": [
       "<div>\n",
       "<style scoped>\n",
       "    .dataframe tbody tr th:only-of-type {\n",
       "        vertical-align: middle;\n",
       "    }\n",
       "\n",
       "    .dataframe tbody tr th {\n",
       "        vertical-align: top;\n",
       "    }\n",
       "\n",
       "    .dataframe thead th {\n",
       "        text-align: right;\n",
       "    }\n",
       "</style>\n",
       "<table border=\"1\" class=\"dataframe\">\n",
       "  <thead>\n",
       "    <tr style=\"text-align: right;\">\n",
       "      <th></th>\n",
       "      <th>Company</th>\n",
       "      <th>Company Location</th>\n",
       "      <th>Bean Type</th>\n",
       "      <th>Specific Bean Origin</th>\n",
       "      <th>Broad Bean Origin</th>\n",
       "      <th>Cocoa Percent</th>\n",
       "      <th>REF</th>\n",
       "      <th>Review Date</th>\n",
       "      <th>Rating</th>\n",
       "    </tr>\n",
       "  </thead>\n",
       "  <tbody>\n",
       "  </tbody>\n",
       "</table>\n",
       "</div>"
      ],
      "text/plain": [
       "Empty DataFrame\n",
       "Columns: [Company, Company Location, Bean Type, Specific Bean Origin, Broad Bean Origin, Cocoa Percent, REF, Review Date, Rating]\n",
       "Index: []"
      ]
     },
     "execution_count": 10,
     "metadata": {},
     "output_type": "execute_result"
    }
   ],
   "source": [
    "df.loc[df['Bean Type'].isna(), 'Bean Type'] = 'Unknown'\n",
    "df[df['Bean Type'].isna()]"
   ]
  },
  {
   "cell_type": "markdown",
   "metadata": {
    "colab_type": "text",
    "id": "jaoPvnZnHMjg"
   },
   "source": [
    "Now we can see how many unique bean types we have."
   ]
  },
  {
   "cell_type": "code",
   "execution_count": 11,
   "metadata": {
    "colab": {},
    "colab_type": "code",
    "id": "dj_ttYmwFATj"
   },
   "outputs": [
    {
     "data": {
      "text/plain": [
       "42"
      ]
     },
     "execution_count": 11,
     "metadata": {},
     "output_type": "execute_result"
    }
   ],
   "source": [
    "df['Bean Type'].unique().size"
   ]
  },
  {
   "cell_type": "markdown",
   "metadata": {
    "colab_type": "text",
    "id": "-PJNVBJAHUgK"
   },
   "source": [
    "Only 42, let's print them out."
   ]
  },
  {
   "cell_type": "code",
   "execution_count": 12,
   "metadata": {
    "colab": {},
    "colab_type": "code",
    "id": "EGITpas9HXwH"
   },
   "outputs": [
    {
     "name": "stdout",
     "output_type": "stream",
     "text": [
      "Amazon\n",
      "Amazon mix\n",
      "Amazon, ICS\n",
      "Beniano\n",
      "Blend\n",
      "Blend-Forastero,Criollo\n",
      "CCN51\n",
      "Criollo\n",
      "Criollo (Amarru)\n",
      "Criollo (Ocumare 61)\n",
      "Criollo (Ocumare 67)\n",
      "Criollo (Ocumare 77)\n",
      "Criollo (Ocumare)\n",
      "Criollo (Porcelana)\n",
      "Criollo (Wild)\n",
      "Criollo, +\n",
      "Criollo, Forastero\n",
      "Criollo, Trinitario\n",
      "EET\n",
      "Forastero\n",
      "Forastero (Amelonado)\n",
      "Forastero (Arriba)\n",
      "Forastero (Arriba) ASS\n",
      "Forastero (Arriba) ASSS\n",
      "Forastero (Catongo)\n",
      "Forastero (Nacional)\n",
      "Forastero (Parazinho)\n",
      "Forastero(Arriba, CCN)\n",
      "Forastero, Trinitario\n",
      "Matina\n",
      "Nacional\n",
      "Nacional (Arriba)\n",
      "Trinitario\n",
      "Trinitario (85% Criollo)\n",
      "Trinitario (Amelonado)\n",
      "Trinitario (Scavina)\n",
      "Trinitario, Criollo\n",
      "Trinitario, Forastero\n",
      "Trinitario, Nacional\n",
      "Trinitario, TCGA\n",
      "Unknown\n",
      " \n"
     ]
    }
   ],
   "source": [
    "for t in sorted(df['Bean Type'].unique()):\n",
    "  print(t)"
   ]
  },
  {
   "cell_type": "markdown",
   "metadata": {
    "colab_type": "text",
    "id": "BY0UqpgsHjTu"
   },
   "source": [
    "The data looks pretty good. But there is a small little problem. After 'Unknown' there seems to be an empty line. What is that?\n",
    "\n",
    "It turns out that it is a whitespace character. We thought we had only one missing value, but it looks like there are some values that are present but are white space. Let's see how many.\n",
    "\n",
    "White space can be tricky because there are many different encodings that render as white space. Let's find out exactly which space character this is.\n",
    "\n",
    "To get the space(s) we can sort the 'Bean Type' values again and get the last one, since we see the space last in the list. We can then print the space as hexadecimal characters."
   ]
  },
  {
   "cell_type": "code",
   "execution_count": 13,
   "metadata": {
    "colab": {},
    "colab_type": "code",
    "id": "O2E_EcvCH-NH"
   },
   "outputs": [
    {
     "name": "stdout",
     "output_type": "stream",
     "text": [
      "0xa0\n"
     ]
    }
   ],
   "source": [
    "space = sorted(df['Bean Type'].unique())[-1]\n",
    "print(\", \".join(\"0x{:02x}\".format(ord(c)) for c in space))"
   ]
  },
  {
   "cell_type": "markdown",
   "metadata": {
    "colab_type": "text",
    "id": "0TTbLvZSJUZw"
   },
   "source": [
    "We get `0xa0` which is the ASCII code for [non-breaking space](https://en.wikipedia.org/wiki/Non-breaking_space). This is different from the white space that you get when you hit the space bar. That space is encoded `0x20`.\n",
    "\n",
    "Let's see how many of these there are:"
   ]
  },
  {
   "cell_type": "code",
   "execution_count": 14,
   "metadata": {
    "colab": {},
    "colab_type": "code",
    "id": "KDOkj9BTJspc"
   },
   "outputs": [
    {
     "data": {
      "text/html": [
       "<div>\n",
       "<style scoped>\n",
       "    .dataframe tbody tr th:only-of-type {\n",
       "        vertical-align: middle;\n",
       "    }\n",
       "\n",
       "    .dataframe tbody tr th {\n",
       "        vertical-align: top;\n",
       "    }\n",
       "\n",
       "    .dataframe thead th {\n",
       "        text-align: right;\n",
       "    }\n",
       "</style>\n",
       "<table border=\"1\" class=\"dataframe\">\n",
       "  <thead>\n",
       "    <tr style=\"text-align: right;\">\n",
       "      <th></th>\n",
       "      <th>Company</th>\n",
       "      <th>Company Location</th>\n",
       "      <th>Bean Type</th>\n",
       "      <th>Specific Bean Origin</th>\n",
       "      <th>Broad Bean Origin</th>\n",
       "      <th>Cocoa Percent</th>\n",
       "      <th>REF</th>\n",
       "      <th>Review Date</th>\n",
       "      <th>Rating</th>\n",
       "    </tr>\n",
       "  </thead>\n",
       "  <tbody>\n",
       "    <tr>\n",
       "      <th>0</th>\n",
       "      <td>A. Morin</td>\n",
       "      <td>France</td>\n",
       "      <td></td>\n",
       "      <td>Agua Grande</td>\n",
       "      <td>Sao Tome</td>\n",
       "      <td>63%</td>\n",
       "      <td>1876</td>\n",
       "      <td>2016</td>\n",
       "      <td>3.75</td>\n",
       "    </tr>\n",
       "    <tr>\n",
       "      <th>1</th>\n",
       "      <td>A. Morin</td>\n",
       "      <td>France</td>\n",
       "      <td></td>\n",
       "      <td>Kpime</td>\n",
       "      <td>Togo</td>\n",
       "      <td>70%</td>\n",
       "      <td>1676</td>\n",
       "      <td>2015</td>\n",
       "      <td>2.75</td>\n",
       "    </tr>\n",
       "    <tr>\n",
       "      <th>2</th>\n",
       "      <td>A. Morin</td>\n",
       "      <td>France</td>\n",
       "      <td></td>\n",
       "      <td>Atsane</td>\n",
       "      <td>Togo</td>\n",
       "      <td>70%</td>\n",
       "      <td>1676</td>\n",
       "      <td>2015</td>\n",
       "      <td>3.00</td>\n",
       "    </tr>\n",
       "    <tr>\n",
       "      <th>3</th>\n",
       "      <td>A. Morin</td>\n",
       "      <td>France</td>\n",
       "      <td></td>\n",
       "      <td>Akata</td>\n",
       "      <td>Togo</td>\n",
       "      <td>70%</td>\n",
       "      <td>1680</td>\n",
       "      <td>2015</td>\n",
       "      <td>3.50</td>\n",
       "    </tr>\n",
       "    <tr>\n",
       "      <th>4</th>\n",
       "      <td>A. Morin</td>\n",
       "      <td>France</td>\n",
       "      <td></td>\n",
       "      <td>Quilla</td>\n",
       "      <td>Peru</td>\n",
       "      <td>70%</td>\n",
       "      <td>1704</td>\n",
       "      <td>2015</td>\n",
       "      <td>3.50</td>\n",
       "    </tr>\n",
       "    <tr>\n",
       "      <th>...</th>\n",
       "      <td>...</td>\n",
       "      <td>...</td>\n",
       "      <td>...</td>\n",
       "      <td>...</td>\n",
       "      <td>...</td>\n",
       "      <td>...</td>\n",
       "      <td>...</td>\n",
       "      <td>...</td>\n",
       "      <td>...</td>\n",
       "    </tr>\n",
       "    <tr>\n",
       "      <th>1787</th>\n",
       "      <td>Zotter</td>\n",
       "      <td>Austria</td>\n",
       "      <td></td>\n",
       "      <td>Santo Domingo</td>\n",
       "      <td>Dominican Republic</td>\n",
       "      <td>70%</td>\n",
       "      <td>879</td>\n",
       "      <td>2012</td>\n",
       "      <td>3.75</td>\n",
       "    </tr>\n",
       "    <tr>\n",
       "      <th>1789</th>\n",
       "      <td>Zotter</td>\n",
       "      <td>Austria</td>\n",
       "      <td></td>\n",
       "      <td>Indianer, Raw</td>\n",
       "      <td></td>\n",
       "      <td>58%</td>\n",
       "      <td>883</td>\n",
       "      <td>2012</td>\n",
       "      <td>3.50</td>\n",
       "    </tr>\n",
       "    <tr>\n",
       "      <th>1790</th>\n",
       "      <td>Zotter</td>\n",
       "      <td>Austria</td>\n",
       "      <td></td>\n",
       "      <td>Peru</td>\n",
       "      <td>Peru</td>\n",
       "      <td>70%</td>\n",
       "      <td>647</td>\n",
       "      <td>2011</td>\n",
       "      <td>3.75</td>\n",
       "    </tr>\n",
       "    <tr>\n",
       "      <th>1793</th>\n",
       "      <td>Zotter</td>\n",
       "      <td>Austria</td>\n",
       "      <td></td>\n",
       "      <td>Kerala State</td>\n",
       "      <td>India</td>\n",
       "      <td>62%</td>\n",
       "      <td>781</td>\n",
       "      <td>2011</td>\n",
       "      <td>3.25</td>\n",
       "    </tr>\n",
       "    <tr>\n",
       "      <th>1794</th>\n",
       "      <td>Zotter</td>\n",
       "      <td>Austria</td>\n",
       "      <td></td>\n",
       "      <td>Brazil, Mitzi Blue</td>\n",
       "      <td>Brazil</td>\n",
       "      <td>65%</td>\n",
       "      <td>486</td>\n",
       "      <td>2010</td>\n",
       "      <td>3.00</td>\n",
       "    </tr>\n",
       "  </tbody>\n",
       "</table>\n",
       "<p>887 rows × 9 columns</p>\n",
       "</div>"
      ],
      "text/plain": [
       "       Company Company Location Bean Type Specific Bean Origin  \\\n",
       "0     A. Morin           France                    Agua Grande   \n",
       "1     A. Morin           France                          Kpime   \n",
       "2     A. Morin           France                         Atsane   \n",
       "3     A. Morin           France                          Akata   \n",
       "4     A. Morin           France                         Quilla   \n",
       "...        ...              ...       ...                  ...   \n",
       "1787    Zotter          Austria                  Santo Domingo   \n",
       "1789    Zotter          Austria                  Indianer, Raw   \n",
       "1790    Zotter          Austria                           Peru   \n",
       "1793    Zotter          Austria                   Kerala State   \n",
       "1794    Zotter          Austria             Brazil, Mitzi Blue   \n",
       "\n",
       "       Broad Bean Origin Cocoa Percent   REF  Review Date  Rating  \n",
       "0               Sao Tome           63%  1876         2016    3.75  \n",
       "1                   Togo           70%  1676         2015    2.75  \n",
       "2                   Togo           70%  1676         2015    3.00  \n",
       "3                   Togo           70%  1680         2015    3.50  \n",
       "4                   Peru           70%  1704         2015    3.50  \n",
       "...                  ...           ...   ...          ...     ...  \n",
       "1787  Dominican Republic           70%   879         2012    3.75  \n",
       "1789                               58%   883         2012    3.50  \n",
       "1790                Peru           70%   647         2011    3.75  \n",
       "1793               India           62%   781         2011    3.25  \n",
       "1794              Brazil           65%   486         2010    3.00  \n",
       "\n",
       "[887 rows x 9 columns]"
      ]
     },
     "execution_count": 14,
     "metadata": {},
     "output_type": "execute_result"
    }
   ],
   "source": [
    "df[df['Bean Type'] == chr(0xa0)]"
   ]
  },
  {
   "cell_type": "markdown",
   "metadata": {
    "colab_type": "text",
    "id": "E6iQWvqCK9fM"
   },
   "source": [
    "Almost 900! Let's encode those as 'Unknown' also."
   ]
  },
  {
   "cell_type": "markdown",
   "metadata": {
    "colab_type": "text",
    "id": "xkf_tZeLLECc"
   },
   "source": [
    "#### Exercise 3: Fixing Non-Breaking Space\n",
    "\n",
    "There are non-breaking space characters, `0xa0` in the 'Bean Type' column. Replace these values with the word 'Unknown'."
   ]
  },
  {
   "cell_type": "markdown",
   "metadata": {
    "colab_type": "text",
    "id": "eSXdAvnuLSUT"
   },
   "source": [
    "**Student Solution**"
   ]
  },
  {
   "cell_type": "code",
   "execution_count": 16,
   "metadata": {
    "colab": {},
    "colab_type": "code",
    "id": "8FGsZXdiLUYJ"
   },
   "outputs": [],
   "source": [
    "# Your Code Goes Here\n",
    "df['Bean Type'] = np.where(df['Bean Type'] == chr(0xa0), 'Unknown', df['Bean Type'])"
   ]
  },
  {
   "cell_type": "markdown",
   "metadata": {
    "colab_type": "text",
    "id": "iToRkZ8pLWb4"
   },
   "source": [
    "---"
   ]
  },
  {
   "cell_type": "markdown",
   "metadata": {
    "colab_type": "text",
    "id": "f8c5MvFFHh_4"
   },
   "source": [
    "### Column: Specific Bean Origin"
   ]
  },
  {
   "cell_type": "markdown",
   "metadata": {
    "colab_type": "text",
    "id": "6MAc6snPJ6LK"
   },
   "source": [
    "Let's look at our next column: 'Specific Bean Origin'. 'Specific Bean Origin' is a string column that contains the \"*specific geo-region of origin for the bar*.\"\n",
    "\n",
    "First, we'll see if we are missing any data in the 'Specific Bean Origin' column."
   ]
  },
  {
   "cell_type": "code",
   "execution_count": 17,
   "metadata": {
    "colab": {},
    "colab_type": "code",
    "id": "e9Lk5uA_RKN5"
   },
   "outputs": [
    {
     "data": {
      "text/plain": [
       "False"
      ]
     },
     "execution_count": 17,
     "metadata": {},
     "output_type": "execute_result"
    }
   ],
   "source": [
    "df['Specific Bean Origin'].isna().any()"
   ]
  },
  {
   "cell_type": "markdown",
   "metadata": {
    "colab_type": "text",
    "id": "DQh-ivg2RNfS"
   },
   "source": [
    "Good, we don't have any 'N/A' data. But we learned from the 'Bean' column that we also need to check string columns for being only white space.\n",
    "\n",
    "A good way to do this is to apply a function that strips leading and trailing white space from every value in a column, and see if the resulting string is zero-length."
   ]
  },
  {
   "cell_type": "code",
   "execution_count": 18,
   "metadata": {
    "colab": {},
    "colab_type": "code",
    "id": "9-MLWbPgMxZm"
   },
   "outputs": [
    {
     "data": {
      "text/html": [
       "<div>\n",
       "<style scoped>\n",
       "    .dataframe tbody tr th:only-of-type {\n",
       "        vertical-align: middle;\n",
       "    }\n",
       "\n",
       "    .dataframe tbody tr th {\n",
       "        vertical-align: top;\n",
       "    }\n",
       "\n",
       "    .dataframe thead th {\n",
       "        text-align: right;\n",
       "    }\n",
       "</style>\n",
       "<table border=\"1\" class=\"dataframe\">\n",
       "  <thead>\n",
       "    <tr style=\"text-align: right;\">\n",
       "      <th></th>\n",
       "      <th>Company</th>\n",
       "      <th>Company Location</th>\n",
       "      <th>Bean Type</th>\n",
       "      <th>Specific Bean Origin</th>\n",
       "      <th>Broad Bean Origin</th>\n",
       "      <th>Cocoa Percent</th>\n",
       "      <th>REF</th>\n",
       "      <th>Review Date</th>\n",
       "      <th>Rating</th>\n",
       "    </tr>\n",
       "  </thead>\n",
       "  <tbody>\n",
       "  </tbody>\n",
       "</table>\n",
       "</div>"
      ],
      "text/plain": [
       "Empty DataFrame\n",
       "Columns: [Company, Company Location, Bean Type, Specific Bean Origin, Broad Bean Origin, Cocoa Percent, REF, Review Date, Rating]\n",
       "Index: []"
      ]
     },
     "execution_count": 18,
     "metadata": {},
     "output_type": "execute_result"
    }
   ],
   "source": [
    "df[df['Specific Bean Origin'].apply(lambda x: x.strip()).str.len() == 0]"
   ]
  },
  {
   "cell_type": "markdown",
   "metadata": {
    "colab_type": "text",
    "id": "Oxyh7ZFKPEJY"
   },
   "source": [
    "Here we can see that no data was returned, so we don't have any 'Specific Bean Origin' values that are only spaces.\n",
    "\n",
    "If you run this function and get an error about numbers/floats not having a strip function, you likely have N/A values in your column. Always check `isna()` first.\n",
    "\n",
    "Now that we know that every row has a 'Specific Bean Origin' value, let's see how many unique values we have."
   ]
  },
  {
   "cell_type": "code",
   "execution_count": null,
   "metadata": {
    "colab": {},
    "colab_type": "code",
    "id": "MTfjVmwmLMZM"
   },
   "outputs": [],
   "source": [
    "df['Specific Bean Origin'].unique().size"
   ]
  },
  {
   "cell_type": "markdown",
   "metadata": {
    "colab_type": "text",
    "id": "TxRFy8RnLXVk"
   },
   "source": [
    "Over 1,000 values! That is quite a bit of data to manually sift through. Let's look at the first bit of data, up until the first origin that starts with 'B'."
   ]
  },
  {
   "cell_type": "code",
   "execution_count": null,
   "metadata": {
    "colab": {},
    "colab_type": "code",
    "id": "ibDslHr2HrTw"
   },
   "outputs": [],
   "source": [
    "for origin in sorted(df['Specific Bean Origin'].unique()):\n",
    "  if origin.startswith('B'):\n",
    "    break\n",
    "  print(origin)"
   ]
  },
  {
   "cell_type": "markdown",
   "metadata": {
    "colab_type": "text",
    "id": "X7otjUTJMUhb"
   },
   "source": [
    "This is some pretty ugly data. Most (but not all) rows contain the bean's geographical origin, but some seem to include the year and/or batch numbers as well, and some seem to contain different information entirely (\"100 percent\").\n",
    "\n",
    "Looking at the data, we can also see some things that look odd. For instance, \"Akesson Estate\" and \"Akesson's Estate\" are likely the same origin. Also, \"Ambolikapkly P.\" clearly looks like a misspelling of \"Ambolikapiky P.\"\n",
    "\n",
    "We could make all of the \"Akesson\" origins look the same, but should we? First, let's look at the entire rows for the offending data."
   ]
  },
  {
   "cell_type": "code",
   "execution_count": null,
   "metadata": {
    "colab": {},
    "colab_type": "code",
    "id": "74DvVEDvNgXF"
   },
   "outputs": [],
   "source": [
    "df[(df['Specific Bean Origin'] == 'Akesson Estate') | \\\n",
    "   (df['Specific Bean Origin'] == \"Akesson's Estate\")]"
   ]
  },
  {
   "cell_type": "markdown",
   "metadata": {
    "colab_type": "text",
    "id": "htWHPgw3OUJE"
   },
   "source": [
    "It is interesting that all of the bean types and origins are alike. It looks like Akesson('s) Estate serves many companies though.\n",
    "\n",
    "It is tempting to go ahead and change the \"Specific Bean Origin\" values to make them match, but it is better to do more research into the industry before making those sorts of changes. You might disagree with this decision, and that is perfectly fine. When working with datasets, you will often have to make difficult calls to deal with ambiguous data. Different people will make different decisions, and that's okay.\n",
    "\n",
    "The \"Ambolikapkly P.\" issue is a little more obvious and can be validated with a quick internet search. The \"Ambolikapkly\" spelling shows up very few times and always in the context of this data set. The other spelling is much more common. Let's go ahead and fix that."
   ]
  },
  {
   "cell_type": "code",
   "execution_count": null,
   "metadata": {
    "colab": {},
    "colab_type": "code",
    "id": "4XB8MPWLO0ZC"
   },
   "outputs": [],
   "source": [
    "df.loc[df['Specific Bean Origin'] == 'Ambolikapkly P.', \n",
    "       'Specific Bean Origin'] = 'Ambolikapiky P.'"
   ]
  },
  {
   "cell_type": "markdown",
   "metadata": {
    "colab_type": "text",
    "id": "Lrm76h5vPORJ"
   },
   "source": [
    "#### Exercise 4: Finding and Repairing Bad Data\n",
    "\n",
    "There are a few more obvious errors in the 'Specific Bean Origin' column of the dataset. Print out the column, scan the output, and see if you can find any more errors. Write the code to fix the errors. Find at least one error to fix.\n",
    "\n",
    "The code to print the dataset is below."
   ]
  },
  {
   "cell_type": "code",
   "execution_count": 19,
   "metadata": {
    "colab": {},
    "colab_type": "code",
    "id": "0yYMKfmIPqOh"
   },
   "outputs": [
    {
     "name": "stdout",
     "output_type": "stream",
     "text": [
      "\"heirloom\", Arriba Nacional\n",
      "100 percent\n",
      "2009 Hapa Nibby\n",
      "A case of the Xerces Blues, triple roast\n",
      "ABOCFA Coop\n",
      "Abinao\n",
      "Abstract S. w/ Jamaica nibs,batch abs60323.0\n",
      "Acarigua, w/ nibs\n",
      "Acopagro\n",
      "Acul-du-Nord, 2015\n",
      "Africa\n",
      "Africa meets Latina\n",
      "AgroCriso Plantation\n",
      "Agua Fria; Sucre region\n",
      "Agua Grande\n",
      "Akata\n",
      "Akesson Estate\n",
      "Akesson P.\n",
      "Akesson's E., Sambirano V.\n",
      "Akesson's Estate\n",
      "Akesson's, batch 4411\n",
      "Akessons Estate, Sambirano, 2013\n",
      "Akessons Estate, Sambirano, Ambanja\n",
      "Akosombo\n",
      "Almendra Blanca, batch 1004\n",
      "Alpaco\n",
      "Alta Verapaz, 2014\n",
      "Alto Beni\n",
      "Alto Beni, Covendo Region\n",
      "Alto Beni, Cru Savage\n",
      "Alto Beni, Palos Blanco\n",
      "Alto Beni, Palos Blancos\n",
      "Alto Beni, Upper Rio Beni, 2014\n",
      "Alto Beni, Upper Rio Beni, 2015\n",
      "Alto Beni, Wild Bolivian\n",
      "Alto Beni, Wild Harvest, Itenez R. 24hr c.\n",
      "Alto Beni, Wild Harvest, Itenez R., 60hr c.\n",
      "Alto Beni, Wild Harvest, Limited Ed.\n",
      "Amazon Basin Blend\n",
      "Amazonas\n",
      "Amazonas Frucht\n",
      "Amazonas w/ nibs\n",
      "Amazonia\n",
      "Ambanja, Sambirano Valley\n",
      "Ambanja, Tsara Valley\n",
      "Ambanja, batch 1 SRB\n",
      "Ambolikapiky\n",
      "Ambolikapiky P.\n",
      "Ambolikapkly P.\n",
      "Amina\n",
      "Andoa, Grand Cru blend\n",
      "Ankasa\n",
      "Anselmo Paraiso Estate\n",
      "Antigua, Special Reserve\n",
      "Antilles (Trin/Gren/DR/Ven)\n",
      "Apurimac\n",
      "Apurimac, El Quinacho Co-op\n",
      "Aragua, Trincheras\n",
      "Araguani\n",
      "Aranama\n",
      "Arauca\n",
      "Arawak\n",
      "Arhuacos\n",
      "Arriba\n",
      "Asajaya E, NW Borneo, b. #132/4500\n",
      "Asante\n",
      "Asochivite, batch 1005\n",
      "Atsane\n",
      "Australia\n",
      "Autumn, Primary Harvest, 2012\n",
      "Ayacucho, \"El Guinacho\"\n",
      "Ba Lai\n",
      "Ba Ria\n",
      "Ba Ria Vung Tau Province\n",
      "Bachelor's Hall E., St. Thomas Parish\n",
      "Bahia\n",
      "Bahia Black, batch bra50722.1\n",
      "Bahia Brazil, Fazenda Sao Pedro\n",
      "Bahia Superior\n",
      "Bahia, Agri-Forestal Plantation, 2010\n",
      "Bahia, Batch 148\n",
      "Bahia, Fazenda Camboa\n",
      "Bahia, Fazenda Venturosa\n",
      "Bahia, Floresta Azul,Good Friends Reserve#3\n",
      "Bahia, Scavina\n",
      "Bahia, batch a1213\n",
      "Baking\n",
      "Bali\n",
      "Bali (west), Sukrama Family, Melaya area\n",
      "Bali, Jembrana\n",
      "Bali, Singaraja\n",
      "Bali, Sukrama Bros. Farm, Melaya, 62hr C\n",
      "Balinese, Java\n",
      "Bambamarca, 2015\n",
      "Baracoa\n",
      "Baracoa, Cuba\n",
      "Barba, Xoco\n",
      "Barinas\n",
      "Barlovento, Venezuela\n",
      "Bayou Blend\n",
      "Belize\n",
      "Belize south\n",
      "Belize south, low fermentation\n",
      "Belize, 2013\n",
      "Belize, 2014 Harvest, Batch 9\n",
      "Belize, Batch 2\n",
      "Belize, med roast\n",
      "Bellavista Coop, #225, LR, MC, CG Exclusive\n",
      "Bellavista Gran Pajeten, San Martin\n",
      "Ben Tre\n",
      "Ben Tre, Dong Nai\n",
      "Ben Tre, Mekong Delta\n",
      "Ben Tre, Mekong Delta, MoCay\n",
      "Ben Tre, Surprise Valley\n",
      "Beniamo\n",
      "Birmanie\n",
      "Bittersweet\n",
      "Black Science Blend 1\n",
      "Blend\n",
      "Blend No. 1\n",
      "Blue Mountain\n",
      "Blue Mountain Region\n",
      "Bocas del Toro\n",
      "Bocas del Toro, Cocabo Co-op\n",
      "Bocas del Toro, Tierra Oscura\n",
      "Bolivar\n",
      "Bolivar, Arriba\n",
      "Bolivar, Guaranda\n",
      "Bolivia\n",
      "Bolivia, Bo-nib-ia, w/ nibs\n",
      "Bolivia, Wild Thing\n",
      "Bolivian\n",
      "Boyaca, Aprocampa Coop, Pauna\n",
      "Brazil\n",
      "Brazil Blend\n",
      "Brazil Rio Doce\n",
      "Brazil, Batch 20316\n",
      "Brazil, Mitzi Blue\n",
      "Brazilian\n",
      "Brooklyn Blend\n",
      "Bundibugyo\n",
      "Bundibugyo District\n",
      "Buto\n",
      "CIAAB Coop\n",
      "CSB Chama\n",
      "Cabosse\n",
      "Cacao Blanco\n",
      "Cacao Nacional W.F.\n",
      "Cacao Nib Crunch\n",
      "Cacao Verapaz\n",
      "Cahabon\n",
      "Cahabon Region\n",
      "Camahogne\n",
      "Camino Verde\n",
      "Camino Verde P., 2012, Balao, Guayas\n",
      "Camino Verde P., Balao, 2015 harvest, batch8\n",
      "Camino Verde P., Balao, Guayas\n",
      "Camino Verde P., Balao, Guayas, \"Floral\"\n",
      "Camino Verde P., Balao, Guayas, \"Fruity\"\n",
      "Camino Verde P., Balao, Guayas, 2012\n",
      "Camino Verde P., Balao, Guayas, 2013\n",
      "Camino Verde P., Balao, Guayas, 2014\n",
      "Camino Verde, Balao, Guayas\n",
      "Camino Verde, Black S., batch cvu6030.0\n",
      "Camino Verde, Guayas\n",
      "Campesino w/ nibs\n",
      "Canoabo\n",
      "Canoabo, 2013\n",
      "Canoabo, Hacienda San Jose\n",
      "Capistrano\n",
      "Capistrano*\n",
      "Caracas, Venezuela and Ghana\n",
      "Caraibe\n",
      "Caranero, Choc. Garage Exclusive\n",
      "Caraque\n",
      "Carenero\n",
      "Carenero S., Barlovento, Grand Cru\n",
      "Carenero Superior\n",
      "Carenero Superior, #203, MR, SC\n",
      "Carenero Superior, Apamate\n",
      "Carenero Superior, Bucare\n",
      "Carenero Superior, Concepcion\n",
      "Carenero Superior, Gran Saman\n",
      "Carenero Superior, Mijao\n",
      "Carenero Superior, Urrutia, Barlovento\n",
      "Carenero, Empyrean Sabor\n",
      "Carenero, Guapiles, Ocumare blend\n",
      "Caribe\n",
      "Carre Amer\n",
      "Carre Grand Noir\n",
      "Carribean\n",
      "Carribean-Raw\n",
      "Carupano, H. San Jose\n",
      "Castillo, Hispaniola, unroasted\n",
      "Catongo\n",
      "Cedeno, lot 271\n",
      "Cesar\n",
      "Ceylan\n",
      "Chanchamayo Province\n",
      "Chanchamayo, Pichanadi, 2012, 60hr c.\n",
      "Chef's Blend\n",
      "Chiapan\n",
      "Chiapas\n",
      "Chiapas, Lacandon Jungle\n",
      "Chiapas, Lacandon Jungle, Oaxacom Mtn\n",
      "Chiapas, Mokaya P.\n",
      "Chiapas, Triple Cacao\n",
      "Chimelb, Lanquin, Alta Verapaz, b-GUA001\n",
      "Chocoan Rainforest, Teroro Escondido, ESM\n",
      "Chocolatey-beta\n",
      "Choobua, Kona\n",
      "Choroni\n",
      "Choroni, Finca Torres, 48hr c.\n",
      "Chuao\n",
      "Chuao 100hr\n",
      "Chuao 2002 P.\n",
      "Chuao 70hr\n",
      "Chuao, #217, DR, MC\n",
      "Chuao, #218, MR, MC\n",
      "Chuao, Aragua region\n",
      "Chuao, Dark Roast\n",
      "Chuao, Hacienda San Jose\n",
      "Chuao, Light Roast\n",
      "Chuao, Mantuano blend\n",
      "Chuao, Med. Roast\n",
      "Chuao, Venezuela\n",
      "Chuao, batch 3\n",
      "Chucuri\n",
      "Chulucanas, Batch 1\n",
      "Chulucanas, El Platanal\n",
      "Chuno\n",
      "Chuno, San Jose de Bocay, Pantasma R.,B.S.\n",
      "Chuno, Xoco\n",
      "Chuno, double turned, Xoco\n",
      "Chuno, triple turned, Xoco\n",
      "Citrus-beta\n",
      "Classic\n",
      "Claudio Corallo w/ nibs\n",
      "Colombia\n",
      "Colombia, Batch 9\n",
      "Colombia, Casa Luker\n",
      "Colombian\n",
      "Colombian 2008\n",
      "Colombian Dark\n",
      "Colombian Semi Dark\n",
      "Colombian w/ nibs\n",
      "Colombie\n",
      "Complexite\n",
      "Conacado\n",
      "Conacado Coop\n",
      "Conacado, #212, LR, SC\n",
      "Conacado, #213, DR, -C\n",
      "Conacado, #223, MR, SC\n",
      "Conacado, #224, MR, MC\n",
      "Conacado, 2012, 120hr c.\n",
      "Conacado, Manifesto\n",
      "Concepcion\n",
      "Concepcion*\n",
      "Congo\n",
      "Congo w/ nibs\n",
      "Congo, Gorilla bar\n",
      "Congo, Grand Cru\n",
      "Coopertiva Amazona\n",
      "Coopertiva Amazona w/ nibs\n",
      "Cooproagro\n",
      "Corazon del Ecuador, Calceta beans\n",
      "Cordoba\n",
      "Corona Arriba\n",
      "Cortes\n",
      "Costa Esmeraldas\n",
      "Costa Rica\n",
      "Costa Rica, Oscuro\n",
      "Cota Brus, Terciopelo, 2015\n",
      "Coto Brus\n",
      "Coto Brus, Heirloom, Batch 1\n",
      "Coto Brus, Terciopelo\n",
      "Coucher du Soleil\n",
      "Crayfish Bay Estate, 2014\n",
      "Crayfish Bay aka Non Pariel Estate\n",
      "Crazy 88\n",
      "Criollo Blend\n",
      "Criollo, Dominican Republic\n",
      "Criollo, Hawaii\n",
      "Crudo\n",
      "Cuana, 2008\n",
      "Cuana, 2013\n",
      "Cuba\n",
      "Cuba, Batch 59/100\n",
      "Cumbia\n",
      "Cumboto, farmer Jose Lugo\n",
      "Cusco\n",
      "Cusco, Cacao Cusco\n",
      "Cuyagua\n",
      "Cuyagua Village\n",
      "Cuyagua, 2013\n",
      "D.R. Congo, Cru Virunga\n",
      "DUO, batch 002\n",
      "Daintree Estates, N. Queensland\n",
      "Dak Lak, Batch 2451\n",
      "Dancing in Your Head, 5 bean blend\n",
      "Dark\n",
      "Dark 67\n",
      "Dark 75\n",
      "Dark, Stone Ground\n",
      "Davao\n",
      "Davao, Mt. Talamo foothills\n",
      "Diego 48hr/ W.F. blend prototype\n",
      "Diego 60hr/ W.F. blend prototype\n",
      "Diego/ original micro\n",
      "Djakarta, Java and Ghana\n",
      "Djual Island\n",
      "Dominican\n",
      "Dominican Republic\n",
      "Dominican Republic prototype\n",
      "Dominican Republic w/ nibs\n",
      "Dominican Republic, \"Love Bar\"\n",
      "Dominican Republic, Batch 3\n",
      "Dominican Republic, Batch 31616\n",
      "Dominican Republic, Batch D2\n",
      "Dominican Republic, Coop\n",
      "Dominican Republic, batch 7\n",
      "Dominican Republic, lot D82R\n",
      "Dominican Republic, rustic\n",
      "Dominican Republic-Organic\n",
      "Dominican Republicm, rustic\n",
      "Don Homero- Cerecita Valley\n",
      "Dong Nai\n",
      "Dos Rios\n",
      "Downtown London\n",
      "Dual Origins, Sambirano, Elvesia\n",
      "Duarte Province\n",
      "Duarte, Batch 360\n",
      "Duo- Gran Couva & Camino Verde\n",
      "Eastern Promises\n",
      "Ecuador\n",
      "Ecuador Puristique\n",
      "Ecuador, 2013\n",
      "Ecuador, Batch 1\n",
      "Ecuador, Batch 31516\n",
      "Ecuador, Bob Bar\n",
      "Ecuador, Choc. Garage Exclusive\n",
      "Ecuador, Midnight Dark\n",
      "Ecuador, Puristique\n",
      "Ecuador, Twilght Dark\n",
      "Ecuador, lot E432314L\n",
      "Ecuador, raw\n",
      "Ecuador, w/ nibs\n",
      "El Carmen, batch 1003\n",
      "El Ceibo Coop\n",
      "El Oro\n",
      "El Oro, Hacienda de Oro\n",
      "El Salvador\n",
      "Elvesia\n",
      "Elvesia P.\n",
      "Elvesia P., Batch 32\n",
      "Elvesia P., Black Science\n",
      "Elvesia, 2011\n",
      "Emerald Estate\n",
      "Epique, Blend No. 49\n",
      "Equateur\n",
      "Equator\n",
      "Esmeraldas\n",
      "Esmeraldas, Salazar Farm\n",
      "Espada\n",
      "Espiritu Santo, 'Smoke Monster'\n",
      "Excellence (US Version)\n",
      "Extra Dark\n",
      "Fazenda Camboa\n",
      "Fazenda Camboa, Bahia\n",
      "Fazenda Leolinda\n",
      "Fazenda Sempre Firme P., Bahia\n",
      "Fazenda Sempre Firme, Bahia\n",
      "Finisterra\n",
      "Fleur de Cacao\n",
      "Fortissima\n",
      "French Laundry 20th Anniversary\n",
      "Fruity-beta\n",
      "Gabon\n",
      "Garaua\n",
      "Ghana\n",
      "Ghana Puristique\n",
      "Ghana prototype\n",
      "Ghana, #211, MR, MC\n",
      "Ghana, 2013\n",
      "Ghana, 2013, batch 129\n",
      "Ghana, Kumasi\n",
      "Ghana, Panama, Ecuador\n",
      "Ghana, prototype\n",
      "Goddess Blend\n",
      "Goodman Estate\n",
      "Gran Blanco\n",
      "Gran Couva\n",
      "Gran Couva 2005 P.\n",
      "Grand 'Anse\n",
      "Grand Cru Blend No.1, 5 yr. Anniversary Ed\n",
      "Grand Cru Dominican Republic\n",
      "Grand Cru Ecuador\n",
      "Grand Cru Ghana\n",
      "Granella\n",
      "Grenada\n",
      "Grenada, Black Science\n",
      "Grenade\n",
      "Gru Grococo, St. Andrews\n",
      "Gruppo Salinas\n",
      "Guadalcanal\n",
      "Guadeloupe\n",
      "Guanaja\n",
      "Guaniamo\n",
      "Guaniamo, Amazonas\n",
      "Guantupi River\n",
      "Guapiles\n",
      "Guasare\n",
      "Guasare, La Sierra de Perija, batch gua001\n",
      "Guasare, Zulia Prov.\n",
      "Guasare, Zulia Prov., 2015, batch 124\n",
      "Guatemala\n",
      "Guayas\n",
      "Guyave\n",
      "Hacienda Las Trincheras\n",
      "Hacienda Victoria\n",
      "Hacienda la Trinidad\n",
      "Haiti\n",
      "Haleiwa E, O'ahu, 2014\n",
      "Haleiwa, O'ahu; Lonohana E., Kanahiku\n",
      "Ham Luong\n",
      "Hamakua Coast, Kokoleka\n",
      "Hamakua, Hawaiian Crown, #176\n",
      "Haut Penja, w/ nibs\n",
      "Hawai'i, Kona Estate Grown\n",
      "Hawai'i, Kona Grand Cru E.\n",
      "Hawaiian Crown, Kona Vanilla\n",
      "Hawaiian, Big Island\n",
      "Hilo\n",
      "Hilo, w/ added cocoa butter\n",
      "Hispaniola\n",
      "Hispaniola w/ nibs\n",
      "Hispaniola, 2008\n",
      "Hispaniola, 2013\n",
      "Hispaniola, batch 170104\n",
      "Honduras\n",
      "House Blend, Batch 2\n",
      "Houseblend\n",
      "Huallabamba, 2015\n",
      "Huila\n",
      "Huiwani Coop\n",
      "IL100, H. San Jose\n",
      "Ilblend\n",
      "India\n",
      "India (south)\n",
      "Indianer, Raw\n",
      "Indigena Amazonia, Grand Cru, Quizas\n",
      "Indio Rojo, Xoco\n",
      "Indonesia\n",
      "Island Growers, 120hr c.\n",
      "Island Growers, 2012, 120hr c.\n",
      "Island Growers, 96hr c.\n",
      "Ivory Coast\n",
      "Ivory Coast, Batch 56/100\n",
      "Jamaica\n",
      "Jamaica a l'ancienne\n",
      "Jamaica, #204, DR, SC\n",
      "Jamaica, #205, DR, MC\n",
      "Jamaica, #206, DR, LC\n",
      "Jamaica, #209, DR, SC\n",
      "Jamaica, #210, DR, MC\n",
      "Jamaique\n",
      "Java\n",
      "Java, Grand Cru\n",
      "Java, Indonesian Black\n",
      "Java, Indonesie\n",
      "Java, Javablond\n",
      "Johe\n",
      "Johe, Xoco\n",
      "Juliana\n",
      "Jutiapa, lot 050916D\n",
      "Kafupbo, Petit Bourg, De Borgnes\n",
      "Kakao Kamili, Kilombero Valley\n",
      "Kakoa Kamili, Both Man & Bird & Beast\n",
      "Kaori\n",
      "Kaua'I, Alea Estate +world\n",
      "Kaua'i\n",
      "Kendari\n",
      "Kendem Lembu, Java\n",
      "Kerala State\n",
      "Kilombero Valley\n",
      "Kilombero, batch 41\n",
      "Kokoa Kamili\n",
      "Kokoa Kamili Coop\n",
      "Kokoa Kamili Coop, Kilombero\n",
      "Kokoa Kamili, batch 1 SRB\n",
      "Kolumbia\n",
      "Kongo, Highlands\n",
      "Kpime\n",
      "Kulili Estate\n",
      "Kulili P., 2013\n",
      "Kumasi Sambirano\n",
      "Kuruba\n",
      "La Bahia, w/ cane juice\n",
      "La Bahia, w/ cane sugar\n",
      "La Dalia\n",
      "La Dalia, Matagalpa\n",
      "La Dalia, Matagalpa,cacao Bisesto,green label\n",
      "La Dorado, light roast\n",
      "La Masica, Batch 1, FHIA Research Center\n",
      "La Masica, Batch 7, FHIA\n",
      "La Masica, FHIA\n",
      "La Patriota, cacao Indio, purple label\n",
      "La Red\n",
      "La Red de Guanconejo, N. Highlands coop\n",
      "La Red, 2011\n",
      "La Red, Guaconejo\n",
      "La Red, Guanconjeco\n",
      "La Red, Project Reserva, Guaconejo\n",
      "La Selva\n",
      "La Tronca, Matagalpa\n",
      "Lachua\n",
      "Lachua w/ cane sugar\n",
      "Lachua w/ maple sugar, batch 5\n",
      "Lachua, Q'egchi families\n",
      "Lacri Blend\n",
      "Lago di Como, Blu\n",
      "Lam Dong\n",
      "Lam Dong, Batch 153\n",
      "LamasdelChanka, San Martin, Oro Verde coop\n",
      "Lanquin Estate\n",
      "Las Acacias E.\n",
      "Las Islas\n",
      "Latino\n",
      "Le Chocolat Chaud\n",
      "Le Noir Amer\n",
      "Le Noir Extra Amer\n",
      "Lever du Soleil\n",
      "Libanio\n",
      "Liberia\n",
      "Liberia, #174\n",
      "Little Big Man\n",
      "Loma Los Pinos, Yacao region, D.R.\n",
      "Loma Sotavento\n",
      "Loma Sotavento, 2013\n",
      "Los Ancones P.\n",
      "Los Colorados, Santo Domingo, Equateur\n",
      "Los Llanos\n",
      "Los Rios\n",
      "Los Rios, H. Iara\n",
      "Los Rios, H. Iara, 2012\n",
      "Los Rios, H. Iara, 2012, 120hr c.\n",
      "Los Rios, H. Iara, 96hr c.\n",
      "Los Rios, Hacienda Limon, Heirloom\n",
      "Los Rios, Hacienda Limon, Orecao, 2014\n",
      "Los Rios, Hacienda Limon, Orecao, 2015\n",
      "Los Rios, Puerto Romero, Equateur\n",
      "Los Rios, Quevedo\n",
      "Los Rios, Quevedo, Arriba\n",
      "Los Rios, Rancho Grande 2004/2007\n",
      "Los Rios, Rancho Grande 2007\n",
      "Los Rios, Vinces\n",
      "Los Ujuxtes\n",
      "Lumas, 2015 Harvest, Batch 6, brown sugar\n",
      "Lumas, 2015 Harvest, Batch 7\n",
      "Mababa\n",
      "Machu Pichu\n",
      "Macondo\n",
      "Macuare; Miranda; Chloe formula\n",
      "Madagared\n",
      "Madagascar\n",
      "Madagascar w/ nibs\n",
      "Madagascar, 100% criollo\n",
      "Madagascar, Ambolikapiky P.\n",
      "Madagascar, Batch 2\n",
      "Madagascar, Batch 59/100\n",
      "Madagascar, Batch 8\n",
      "Madagascar, Grand Cru\n",
      "Madagascar, Nosy Be Isle.\n",
      "Madagascar, Sassy Bar\n",
      "Madagascar, lot M0403R\n",
      "Madagascar, w/ shell\n",
      "Mahali, Kasai\n",
      "Makwale Village, Kyela\n",
      "Maleku\n",
      "Malekula Island\n",
      "Malekula P., 2013\n",
      "Malgascio\n",
      "Manabi\n",
      "Mangaro P.\n",
      "Manhattan\n",
      "Manickchand Estate\n",
      "Manjari\n",
      "Mantuano\n",
      "Mantuano, 2012\n",
      "Mara\n",
      "Marabel Farms\n",
      "Maracaibo\n",
      "Maracaibo Clasificado\n",
      "Maracaibo, El Rosario\n",
      "Maracaibo, El Vigia\n",
      "Maragda\n",
      "Maragnam\n",
      "Maralumi P.\n",
      "Maranon\n",
      "Maranon Canyon\n",
      "Maranon Canyon, Fortunato No. 4\n",
      "Maranon, #227, LR, MC\n",
      "Maranon, #228, MR, SC\n",
      "Maranon, #229, MR, LC\n",
      "Maranon, #230, DR, LC\n",
      "Maranon, 2014\n",
      "Maranon, Cajamarca\n",
      "Maranon, Fortunato No. 4\n",
      "Maranon, Good & Evil, w/ nibs\n",
      "Maranon, Joya Rara\n",
      "Maranon, batch 2\n",
      "Maranura\n",
      "Marcial, single Cote, 2012\n",
      "Markham Valley\n",
      "Markham Valley, #219, LR, MC\n",
      "Markham Valley, #220, MR, MC\n",
      "Markham Valley, #221, DR, MC\n",
      "Markham Valley, #222, LR, 0C\n",
      "Matagalpa\n",
      "Matagalpa, Cacao Bisiesto\n",
      "Matasawalevu\n",
      "Matiguas\n",
      "Matina 1-6, prototype\n",
      "Maunawili, O'ahu, Agri Research C., 2014\n",
      "Maunawili, O'ahu, Agri Research C., 2015\n",
      "Maya Belize\n",
      "Maya Mountain\n",
      "Maya Mountain w/ nibs\n",
      "Maya Mountain, Toledo, Batch 29\n",
      "Maya Mtn\n",
      "Maya Mtn, Batch 18, Heirloom\n",
      "Maya Mtn, Batch 454, Heirloom\n",
      "Maya Mtn, Moho R., Toledo D.\n",
      "Maya Mtn, Moho R., Toledo D., 2015\n",
      "Maya Mtn., Break Bar- Snark\n",
      "Medagla, Xoco\n",
      "Mekong Delta & Dong Nai\n",
      "Mekong Delta, early 2014 Harvest\n",
      "Mexico\n",
      "Mexico, Lot 28022016\n",
      "Mid Mountain, 2014\n",
      "Midnight\n",
      "Millot P., Ambanja\n",
      "Millot Plantation\n",
      "Mindo\n",
      "Misterio\n",
      "Moho River\n",
      "Moho River Valley\n",
      "Moho Valley\n",
      "Mombacho\n",
      "Momotombo\n",
      "Montanya\n",
      "Monte Alegre (Itacare), Brazil\n",
      "Monte Alegre, 3 diff. plantations\n",
      "Monte Alegre, D. Badaro, Raw, Organic\n",
      "Monte Alegre, D. Badero\n",
      "Monte Alegre, Diego Badero\n",
      "Montubia\n",
      "Mora Mora 2006\n",
      "Morobe\n",
      "Morogoro\n",
      "Morropon, Norandiono Coop, Piura\n",
      "Moxos\n",
      "Nacional\n",
      "Namau Village\n",
      "Namau Village, N. Taileva P., batch a2812\n",
      "Napa\n",
      "Nativo, Varzea\n",
      "Nature\n",
      "New Ireland\n",
      "Nibby\n",
      "Nicaliso, Xoco\n",
      "Nicalizo\n",
      "Nicaragua\n",
      "Nicaragua, American style\n",
      "Nicaragua, w/ inbs\n",
      "Nicaraqua\n",
      "Nigeria\n",
      "Nine\n",
      "Nocturne\n",
      "Noir\n",
      "Noir Infini\n",
      "Non Pariel Estate\n",
      "Norandino, batch 161208\n",
      "Noula Coop\n",
      "Nourish\n",
      "Nube- prototype\n",
      "Nutty-beta\n",
      "Nyangbo\n",
      "O'Payo\n",
      "O'ahu\n",
      "O'ahu, N. Shore, Waialua E., Kakoleka\n",
      "O'ahu, N. Shore, Waialua Estate\n",
      "O'ahu, N. Shore, Waialua Estate w/ nibs\n",
      "O'payo, Waslala\n",
      "Oahu, Winward, #151, Maunawili district\n",
      "Ocumare\n",
      "Ocumare 61\n",
      "Ocumare 61, Puertomar\n",
      "Ocumare 67, Puertofino\n",
      "Ocumare 77\n",
      "Ocumare de la Costa\n",
      "Ocumare, Cumboto\n",
      "Ocumare, H. Cata, 48hr c.\n",
      "Ocumare, H. Cata, w/ nibs\n",
      "Ocumare, Premier Cru, Quizas No. 2\n",
      "Ocumare, Puerto Cabello\n",
      "Ocumare, Puerto Cabello, Venezuela\n",
      "Ocumare, Venezuela\n",
      "Ocumare, prototype\n",
      "Oko Caribe\n",
      "Oko Caribe, DOR005\n",
      "Oko Caribe, Duarte P.\n",
      "Oko Caribe, Duarte P., Collab w Chocosol\n",
      "Oko Caribe, Duarte Province, 2016 H.\n",
      "Oko Caribe, batch 1 SRB\n",
      "One Hundred\n",
      "Onyx\n",
      "Opaeula Estate, O'ahu, Ele'ele\n",
      "Opaeula Estate, O'ahu, Nene, CG Exclusive\n",
      "Organic Dark\n",
      "Orinoco\n",
      "Orinoqua Region, Arauca\n",
      "Oro\n",
      "Oscuro\n",
      "Oscuro, Finca Chimelb\n",
      "Otucan, Grand Cru\n",
      "PNG, Devotion\n",
      "PNG, Nib Bar\n",
      "PNG, Revolution\n",
      "PNG, Voodoo\n",
      "Pablino\n",
      "Palo Blanco w/ panela, Chulucanas\n",
      "Palo Blanco, Chulucanas\n",
      "Palos Blancos\n",
      "Palos Blancos + nibs\n",
      "Panama\n",
      "Panama, Raven\n",
      "Pangoa\n",
      "Pangoa, w/ nibs\n",
      "Papaua New Guinea\n",
      "Papouasie\n",
      "Papua\n",
      "Papua Kerafat\n",
      "Papua New Guinea\n",
      "Papua New Guinea, Batch 2\n",
      "Papua New Guinea, triple roast, batch 1\n",
      "Paramaribo, batch 20160043-01\n",
      "Patanemo\n",
      "Patanemo Vil., Carabobo State, Tisano family\n",
      "Patanemo, Epoch, Donaldo\n",
      "Pepiniere, single Cote\n",
      "Perfect Illusion\n",
      "Perla Negra\n",
      "Peru\n",
      "Peru + nibs\n",
      "Peru Brutus\n",
      "Peru, Awagum bar\n",
      "Peru, Batch 1\n",
      "Peru, Batch 51/100\n",
      "Peru, Las Pampas P.\n",
      "Peru, Madagascar\n",
      "Peru- Ecuador\n",
      "Peruvian\n",
      "Peruvian Amazon\n",
      "Phantom\n",
      "Philly Blend, 5 plantations\n",
      "Piaroa, Amazonas, Batch 350\n",
      "Pichincha\n",
      "Pinchincha, Mindo, Coop Nueva Esper., 2015\n",
      "Pisa\n",
      "Piura\n",
      "Piura Blanco\n",
      "Piura Blanco, Norandino\n",
      "Piura Select, Cacao Blanc\n",
      "Piura, Apotequil, \"Porcelana\" 72hr c.\n",
      "Piura, Blanco de Criollo\n",
      "Piura, Choc. Garage Exclusive\n",
      "Piura, Illanka, Quemazon\n",
      "Piura, Perou\n",
      "Porcelana\n",
      "Porcelana, Apotequil\n",
      "Porcelana, Batch 5163\n",
      "Porcelana, Colombia, Amazonas\n",
      "Porcelana, Maracaibo, Palmira P. 2005\n",
      "Porcelana, Maracaibo, Palmira P. 2006\n",
      "Porcelana, Pariguan\n",
      "Porcelana, Pedegral\n",
      "Porcelana, Premier Cru, Quizas No. 1\n",
      "Porcelana, S. of Lake Maracaibo\n",
      "Porcelana, Sorotaima,Machiques,batch pcl001\n",
      "Porcelana, Tabasco\n",
      "Porcelana, Tabasco, Finca La Joya\n",
      "Porcelana, Tabasco, La Joya\n",
      "Porcelana, Tabasco, Limited Ed.\n",
      "Porcelana, Tabasco, Marfil de Blanco\n",
      "Porcelana, Tabasco, Mexico\n",
      "Porcelana, Venezuela\n",
      "Porcelana, Zulia\n",
      "Presidio\n",
      "Principe\n",
      "Puerto Cabello\n",
      "Puerto Cabello, Mantuano\n",
      "Puerto Plata\n",
      "Puerto Quito, heirloom\n",
      "Puerto Rico\n",
      "Punta Galera, cacao Nacional, gold label\n",
      "Purple Haze\n",
      "Quetzalcoatl\n",
      "Quilla\n",
      "Quito\n",
      "ROIG\n",
      "ROIG, 2014\n",
      "Rainforest\n",
      "Raw\n",
      "Red Mayan, Xoco\n",
      "Red Vanilla\n",
      "Rico Rugoso, Xoco\n",
      "Rio Arriba\n",
      "Rio Caribe\n",
      "Rio Caribe Superior, Paria Penninsula\n",
      "Rio Caribe, Batch 7\n",
      "Rio Caribe, Cariaco\n",
      "Rio Caribe, Macuro\n",
      "Rio Caribe, Paria Penninsula\n",
      "Rio Caribe, Tepui Treasure\n",
      "Rio Dulce, Xoco\n",
      "Rio Eni\n",
      "Rio Peripa H.\n",
      "Rio Tuma\n",
      "Rizek Cacao, Cibao Valley, Domin. Rep.\n",
      "Rizek Cacao, Domin. Rep.\n",
      "Roberto\n",
      "Robson Estate\n",
      "Roxborough, Tobago\n",
      "Rugoso\n",
      "Rugoso, Bad Fermentation\n",
      "Rugoso, Xoco\n",
      "Saidor Estate, Madang P.\n",
      "Samana\n",
      "Samar, East Visayas region\n",
      "Sambirano\n",
      "Sambirano 2006\n",
      "Sambirano Valley\n",
      "Sambirano Valley, #214, LR, MC\n",
      "Sambirano Valley, #215, MR, MC\n",
      "Sambirano Valley, #216, MR, LC\n",
      "Sambirano Valley, 2012\n",
      "Sambirano Valley, Black Science, B-60307.0\n",
      "Sambirano Valley, Le 100%\n",
      "Sambirano Valley, batch 2477\n",
      "Sambirano, 2008\n",
      "Sambirano, 2009\n",
      "Sambirano, Akesson Estate\n",
      "Sambirano, Ambanja\n",
      "Sambirano, Ambanja, Madagascar\n",
      "Sambirano, Ampamakia 2005, Millot P.\n",
      "Sambirano, Menava P.\n",
      "Sambirano, batch 170102\n",
      "San Andres\n",
      "San Andres, American style\n",
      "San Andres, silk\n",
      "San Francisco de Macoris, Cibao region\n",
      "San Joaquin\n",
      "San Jose\n",
      "San Jose del Tambo\n",
      "San Juan\n",
      "San Juan Estate\n",
      "San Juan Estate, Cherry Blossoms at Night\n",
      "San Juan Estate, Gran Couva\n",
      "San Juan de Cheni\n",
      "San Martin\n",
      "San Martin, Amazonian Highlands\n",
      "San Martin, Batch 2\n",
      "San Martin, Bellavista Coop, #226, DR, MC\n",
      "Sang Yum Coop\n",
      "Sangre Grande P., Trinidad\n",
      "Santander\n",
      "Santo Domingo\n",
      "Sao Tome\n",
      "Sao Tome & Principe\n",
      "Sao Tome, Batch 151\n",
      "Satipo Pangoa region, 16hr conche\n",
      "Satipo Pangoa region, 20hr conche\n",
      "Satipo region, white label\n",
      "Selva\n",
      "Selva Maya\n",
      "Selvagem, Jari\n",
      "Semisweet\n",
      "Sensations Intense\n",
      "Serian E., NW Borneo, b. #134/3800\n",
      "Shake Shack\n",
      "Sharkey\n",
      "Sierra Nevada\n",
      "Sierra Nevada, Tutu Iku\n",
      "Signature Blend\n",
      "Silvestre, Batch 1, 2011\n",
      "Silvestre, Batch 7, 2013\n",
      "Silvestre, La Paz, Beni\n",
      "Sisa 36hr/ W. F. blend prototype\n",
      "Sisa's Secret/ original micro\n",
      "Solomon Island\n",
      "Solomon Island w/ nibs\n",
      "Somia Plantation\n",
      "Somia Plantation, 2012\n",
      "Somia Plantation, Akesson, 2012\n",
      "Somia Plantation, Sambirano, 70hr C\n",
      "Somia, 2013\n",
      "South America\n",
      "South America and Africa\n",
      "Special Maker Reserve\n",
      "Spring, Secondary Harvest, 2012\n",
      "Sri Lanka\n",
      "St. Lucia\n",
      "Star of Ecuador\n",
      "Star of Peru\n",
      "Suchitepequez E.\n",
      "Supremo- SF\n",
      "Sur del Lago\n",
      "Sur del Lago Classificado\n",
      "Sur del Lago, Amiari Meridena, Zulia, 48hr c.\n",
      "Sur del Lago, Amiari Meridena, Zulia, w/ nibs\n",
      "Sur del Lago, Merida\n",
      "Surfin\n",
      "Sylvestre, Oialla\n",
      "TCHOPro 60.5\n",
      "TCHOPro 68\n",
      "Tabasco\n",
      "Taino Secret\n",
      "Tainori\n",
      "Talamanca, Raul-Kekoldo community\n",
      "Tamarina\n",
      "Tan Phu Dong Island, Heart of Darkness\n",
      "Tan Phu Dong, Treasure Island\n",
      "Tangara\n",
      "Tanzania\n",
      "Tanzania, Party Bar\n",
      "Tanzania, batch a1\n",
      "Tapanti, light roast\n",
      "Tarakan\n",
      "Tawau, Oct. 2015 Harvest\n",
      "Tenende, Uwate\n",
      "Tenor\n",
      "Terreiro Velho P.\n",
      "Terreiro Velho P. w/ sugar crystals\n",
      "Teyuna\n",
      "The Other One, Grand Cru\n",
      "Three Amigos(Chuao, Wild Bolivia, D.R.)\n",
      "Tien Giang\n",
      "Tien Giang, 2015, batch 10-2-16\n",
      "Tien Giang, Black S., batch VIT60420.0\n",
      "Tien Giang, Gao Co-op\n",
      "Tien Giang, batch 1 SRB\n",
      "Tingo Maria\n",
      "Tobago\n",
      "Tokiala\n",
      "Toledo District\n",
      "Toledo District, 2015 Harvest\n",
      "Toledo District, Maya\n",
      "Toledo District, w/ nibs\n",
      "Tome Acu\n",
      "Tome Acu E., Amazon Rainforest\n",
      "Toscano Black\n",
      "Tranquilidad, Batch 1\n",
      "Tranquilidad, Baures\n",
      "Tres Hombres\n",
      "Trinatario Treasure\n",
      "Trincheras\n",
      "Trinidad\n",
      "Trinidad & Tobago\n",
      "Trinidad, Heritage, Limited ed.\n",
      "Trinidad-Tobago\n",
      "Trinitario\n",
      "Trinite\n",
      "Trintade, Sao Tome\n",
      "Tsaranta\n",
      "Tumaco\n",
      "Tumbes\n",
      "Tumbes Coop\n",
      "Tumbes, \"Zarumilla\"\n",
      "Tumbes, 2013 Harvest, Batch 8\n",
      "Tumbes, Batch 2\n",
      "Tumbes, Dear Mr. Finley, 2014\n",
      "Tumbes, Norandino\n",
      "Twilight\n",
      "UNOCACE\n",
      "Uba Budo\n",
      "Uganda\n",
      "Umoho R., Toledo District, San Felipe\n",
      "Upala\n",
      "Upala w/ nibs\n",
      "Upala, Batch 12\n",
      "Upala, Batch 18\n",
      "Uranga, Lot 22032016\n",
      "Vale do Juliana E., Atlantic Forest\n",
      "Vale do Juliana, w/ nibs\n",
      "Vanua Levu\n",
      "Vanua Levu, Ami-Ami-CA\n",
      "Vanua Levu, Toto-A\n",
      "Vanuatu\n",
      "Vanuatu, batch 2410\n",
      "Venezuela\n",
      "Venezuela, Trinidad\n",
      "Venezuela, batch 122\n",
      "Venezuela; Barinos, Merida, Tachron\n",
      "Venzuela\n",
      "Vietnam\n",
      "Vietnam, Batch 50/100\n",
      "Vila Gracinda\n",
      "Villa Andina\n",
      "Vinces\n",
      "Virunga\n",
      "Waiahole, O'ahu\n",
      "Wampusirpi Region\n",
      "Wampusirpi, batch 007\n",
      "Wasatch\n",
      "West Africa\n",
      "Wild Beni, Lower Rio Beni, Tranquilidad, 2014\n",
      "Wild Beni, Lower Rio Beni, Tranquilidad, 2015\n",
      "Wild Beniano, 2016, batch 128, Heirloom\n",
      "Wild Bolivia\n",
      "Wild Bolivian\n",
      "Wild Bolivian, Batch 2\n",
      "Wild Bolivian, Jungle Love\n",
      "Wild Thing\n",
      "Winak Coop, Napo\n",
      "Winak, Sumaco\n",
      "Xoconusco\n",
      "Xoconusco, Chiapas\n",
      "Xoconusco, cacao Real\n",
      "Xocunusco, Chiapas, Pichucalco\n",
      "Zorzal Reserva\n",
      "Zorzal Reserva w/ Charles Kerchner\n",
      "Zorzal Reserva, 2015 H., Kerchner\n",
      "black label\n",
      "la Amistad\n",
      "one hundred\n",
      "single estate\n",
      "the lost city, gracias a dias, batch 362\n"
     ]
    }
   ],
   "source": [
    "for origin in sorted(df['Specific Bean Origin'].unique()):\n",
    "  print(origin)"
   ]
  },
  {
   "cell_type": "markdown",
   "metadata": {
    "colab_type": "text",
    "id": "JhuNx5G5R47g"
   },
   "source": [
    "**Student Solution**"
   ]
  },
  {
   "cell_type": "code",
   "execution_count": 20,
   "metadata": {
    "colab": {},
    "colab_type": "code",
    "id": "hxoy0g2iR79D"
   },
   "outputs": [],
   "source": [
    "# Repair the data\n",
    "df['Specific Bean Origin'] = np.where(df['Specific Bean Origin'] == 'Bolivian', 'Bolivia', df['Specific Bean Origin'])"
   ]
  },
  {
   "cell_type": "markdown",
   "metadata": {
    "colab_type": "text",
    "id": "YFZQoDvHR_Rb"
   },
   "source": [
    "---"
   ]
  },
  {
   "cell_type": "markdown",
   "metadata": {
    "colab_type": "text",
    "id": "9dyeOcIASyBa"
   },
   "source": [
    "#### Exercise 5: Top Specific Bean Origins\n",
    "\n",
    "There are just over 1,000 unique specific bean origins and over 1,700 entries in the dataset. Write code to find the top five most repeated origins. Print the origins and the number of times that each appears in the dataset."
   ]
  },
  {
   "cell_type": "markdown",
   "metadata": {
    "colab_type": "text",
    "id": "yLz75cOFTE_T"
   },
   "source": [
    "**Student Solution**"
   ]
  },
  {
   "cell_type": "code",
   "execution_count": 23,
   "metadata": {
    "colab": {},
    "colab_type": "code",
    "id": "Ew8c5AknTHuQ"
   },
   "outputs": [
    {
     "data": {
      "text/plain": [
       "Specific Bean Origin\n",
       "Madagascar            57\n",
       "Peru                  45\n",
       "Ecuador               42\n",
       "Dominican Republic    37\n",
       "Venezuela             21\n",
       "Name: Specific Bean Origin, dtype: int64"
      ]
     },
     "execution_count": 23,
     "metadata": {},
     "output_type": "execute_result"
    }
   ],
   "source": [
    "# Find the top 5 bar origins\n",
    "df.groupby('Specific Bean Origin')['Specific Bean Origin'].count().sort_values(ascending=False).head(n=5)"
   ]
  },
  {
   "cell_type": "markdown",
   "metadata": {
    "colab_type": "text",
    "id": "0abZ4gATTGtJ"
   },
   "source": [
    "---"
   ]
  },
  {
   "cell_type": "markdown",
   "metadata": {
    "colab_type": "text",
    "id": "OUPRZpCIdvT8"
   },
   "source": [
    "### Column: Broad Bean Origin"
   ]
  },
  {
   "cell_type": "markdown",
   "metadata": {
    "colab_type": "text",
    "id": "lI5_PqH7Tqq3"
   },
   "source": [
    "The 'Broad Bean Origin' is the \"*broad geo-region of origin for the bean.*\" In theory, this should be broader regions than the 'Specific Bean Origin' that we just worked with.\n",
    "\n",
    "Let's dive in. First things first, let's check for N/A values."
   ]
  },
  {
   "cell_type": "code",
   "execution_count": 24,
   "metadata": {
    "colab": {},
    "colab_type": "code",
    "id": "-xfNxS3NUVRw"
   },
   "outputs": [
    {
     "data": {
      "text/plain": [
       "Company                 1\n",
       "Company Location        1\n",
       "Bean Type               1\n",
       "Specific Bean Origin    1\n",
       "Broad Bean Origin       0\n",
       "Cocoa Percent           1\n",
       "REF                     1\n",
       "Review Date             1\n",
       "Rating                  1\n",
       "dtype: int64"
      ]
     },
     "execution_count": 24,
     "metadata": {},
     "output_type": "execute_result"
    }
   ],
   "source": [
    "df[df['Broad Bean Origin'].isna()].count()"
   ]
  },
  {
   "cell_type": "markdown",
   "metadata": {
    "colab_type": "text",
    "id": "PDAtc4e6cmot"
   },
   "source": [
    "It looks like we are missing one origin. Let's take a look at the record."
   ]
  },
  {
   "cell_type": "code",
   "execution_count": 25,
   "metadata": {
    "colab": {},
    "colab_type": "code",
    "id": "Yua9pGNhdOcP"
   },
   "outputs": [
    {
     "data": {
      "text/html": [
       "<div>\n",
       "<style scoped>\n",
       "    .dataframe tbody tr th:only-of-type {\n",
       "        vertical-align: middle;\n",
       "    }\n",
       "\n",
       "    .dataframe tbody tr th {\n",
       "        vertical-align: top;\n",
       "    }\n",
       "\n",
       "    .dataframe thead th {\n",
       "        text-align: right;\n",
       "    }\n",
       "</style>\n",
       "<table border=\"1\" class=\"dataframe\">\n",
       "  <thead>\n",
       "    <tr style=\"text-align: right;\">\n",
       "      <th></th>\n",
       "      <th>Company</th>\n",
       "      <th>Company Location</th>\n",
       "      <th>Bean Type</th>\n",
       "      <th>Specific Bean Origin</th>\n",
       "      <th>Broad Bean Origin</th>\n",
       "      <th>Cocoa Percent</th>\n",
       "      <th>REF</th>\n",
       "      <th>Review Date</th>\n",
       "      <th>Rating</th>\n",
       "    </tr>\n",
       "  </thead>\n",
       "  <tbody>\n",
       "    <tr>\n",
       "      <th>1072</th>\n",
       "      <td>Mast Brothers</td>\n",
       "      <td>U.S.A.</td>\n",
       "      <td>Trinitario</td>\n",
       "      <td>Madagascar</td>\n",
       "      <td>NaN</td>\n",
       "      <td>72%</td>\n",
       "      <td>999</td>\n",
       "      <td>2012</td>\n",
       "      <td>2.5</td>\n",
       "    </tr>\n",
       "  </tbody>\n",
       "</table>\n",
       "</div>"
      ],
      "text/plain": [
       "            Company Company Location   Bean Type Specific Bean Origin  \\\n",
       "1072  Mast Brothers           U.S.A.  Trinitario           Madagascar   \n",
       "\n",
       "     Broad Bean Origin Cocoa Percent  REF  Review Date  Rating  \n",
       "1072               NaN           72%  999         2012     2.5  "
      ]
     },
     "execution_count": 25,
     "metadata": {},
     "output_type": "execute_result"
    }
   ],
   "source": [
    "df[df['Broad Bean Origin'].isna()]"
   ]
  },
  {
   "cell_type": "markdown",
   "metadata": {
    "colab_type": "text",
    "id": "UUz2RFhHde9o"
   },
   "source": [
    "The one record has a 'Specific Bean Origin' of 'Madagascar'. Let's see if there are any other chocolates from that same specific origin."
   ]
  },
  {
   "cell_type": "code",
   "execution_count": null,
   "metadata": {
    "colab": {},
    "colab_type": "code",
    "id": "NWwhBGNGdRK7"
   },
   "outputs": [],
   "source": [
    "df[df['Specific Bean Origin'] == 'Madagascar']"
   ]
  },
  {
   "cell_type": "markdown",
   "metadata": {
    "colab_type": "text",
    "id": "N2dcIgIqdr__"
   },
   "source": [
    "Quite a few! And they all have a 'Broad Bean Origin' of 'Madagascar', except for our one missing value. It is probably safe to just set the missing value to 'Madagascar' also."
   ]
  },
  {
   "cell_type": "code",
   "execution_count": 28,
   "metadata": {
    "colab": {},
    "colab_type": "code",
    "id": "4QYJkAFOd8sn"
   },
   "outputs": [
    {
     "data": {
      "text/html": [
       "<div>\n",
       "<style scoped>\n",
       "    .dataframe tbody tr th:only-of-type {\n",
       "        vertical-align: middle;\n",
       "    }\n",
       "\n",
       "    .dataframe tbody tr th {\n",
       "        vertical-align: top;\n",
       "    }\n",
       "\n",
       "    .dataframe thead th {\n",
       "        text-align: right;\n",
       "    }\n",
       "</style>\n",
       "<table border=\"1\" class=\"dataframe\">\n",
       "  <thead>\n",
       "    <tr style=\"text-align: right;\">\n",
       "      <th></th>\n",
       "      <th>Company</th>\n",
       "      <th>Company Location</th>\n",
       "      <th>Bean Type</th>\n",
       "      <th>Specific Bean Origin</th>\n",
       "      <th>Broad Bean Origin</th>\n",
       "      <th>Cocoa Percent</th>\n",
       "      <th>REF</th>\n",
       "      <th>Review Date</th>\n",
       "      <th>Rating</th>\n",
       "    </tr>\n",
       "  </thead>\n",
       "  <tbody>\n",
       "  </tbody>\n",
       "</table>\n",
       "</div>"
      ],
      "text/plain": [
       "Empty DataFrame\n",
       "Columns: [Company, Company Location, Bean Type, Specific Bean Origin, Broad Bean Origin, Cocoa Percent, REF, Review Date, Rating]\n",
       "Index: []"
      ]
     },
     "execution_count": 28,
     "metadata": {},
     "output_type": "execute_result"
    }
   ],
   "source": [
    "df.loc[(df['Specific Bean Origin'] == 'Madagascar') &\n",
    "       (df['Broad Bean Origin'].isna()),\n",
    "       'Broad Bean Origin'] = 'Madagascar'\n",
    "\n",
    "df[df['Broad Bean Origin'].isna()]"
   ]
  },
  {
   "cell_type": "markdown",
   "metadata": {
    "colab_type": "text",
    "id": "q9hd_1sUePTY"
   },
   "source": [
    "Now that we have all of the N/A values handled, let's see if we have an issue with spaces."
   ]
  },
  {
   "cell_type": "code",
   "execution_count": 29,
   "metadata": {
    "colab": {},
    "colab_type": "code",
    "id": "fbeQTVRYeUpK"
   },
   "outputs": [
    {
     "data": {
      "text/html": [
       "<div>\n",
       "<style scoped>\n",
       "    .dataframe tbody tr th:only-of-type {\n",
       "        vertical-align: middle;\n",
       "    }\n",
       "\n",
       "    .dataframe tbody tr th {\n",
       "        vertical-align: top;\n",
       "    }\n",
       "\n",
       "    .dataframe thead th {\n",
       "        text-align: right;\n",
       "    }\n",
       "</style>\n",
       "<table border=\"1\" class=\"dataframe\">\n",
       "  <thead>\n",
       "    <tr style=\"text-align: right;\">\n",
       "      <th></th>\n",
       "      <th>Company</th>\n",
       "      <th>Company Location</th>\n",
       "      <th>Bean Type</th>\n",
       "      <th>Specific Bean Origin</th>\n",
       "      <th>Broad Bean Origin</th>\n",
       "      <th>Cocoa Percent</th>\n",
       "      <th>REF</th>\n",
       "      <th>Review Date</th>\n",
       "      <th>Rating</th>\n",
       "    </tr>\n",
       "  </thead>\n",
       "  <tbody>\n",
       "    <tr>\n",
       "      <th>77</th>\n",
       "      <td>Amedei</td>\n",
       "      <td>Italy</td>\n",
       "      <td>Blend</td>\n",
       "      <td>Nine</td>\n",
       "      <td></td>\n",
       "      <td>75%</td>\n",
       "      <td>111</td>\n",
       "      <td>2007</td>\n",
       "      <td>4.00</td>\n",
       "    </tr>\n",
       "    <tr>\n",
       "      <th>85</th>\n",
       "      <td>Amedei</td>\n",
       "      <td>Italy</td>\n",
       "      <td>Blend</td>\n",
       "      <td>Toscano Black</td>\n",
       "      <td></td>\n",
       "      <td>63%</td>\n",
       "      <td>170</td>\n",
       "      <td>2007</td>\n",
       "      <td>3.50</td>\n",
       "    </tr>\n",
       "    <tr>\n",
       "      <th>86</th>\n",
       "      <td>Amedei</td>\n",
       "      <td>Italy</td>\n",
       "      <td>Blend</td>\n",
       "      <td>Toscano Black</td>\n",
       "      <td></td>\n",
       "      <td>70%</td>\n",
       "      <td>40</td>\n",
       "      <td>2006</td>\n",
       "      <td>5.00</td>\n",
       "    </tr>\n",
       "    <tr>\n",
       "      <th>87</th>\n",
       "      <td>Amedei</td>\n",
       "      <td>Italy</td>\n",
       "      <td>Blend</td>\n",
       "      <td>Toscano Black</td>\n",
       "      <td></td>\n",
       "      <td>66%</td>\n",
       "      <td>75</td>\n",
       "      <td>2006</td>\n",
       "      <td>4.00</td>\n",
       "    </tr>\n",
       "    <tr>\n",
       "      <th>144</th>\n",
       "      <td>Bahen &amp; Co.</td>\n",
       "      <td>Australia</td>\n",
       "      <td>Unknown</td>\n",
       "      <td>Houseblend</td>\n",
       "      <td></td>\n",
       "      <td>80%</td>\n",
       "      <td>1474</td>\n",
       "      <td>2015</td>\n",
       "      <td>3.25</td>\n",
       "    </tr>\n",
       "    <tr>\n",
       "      <th>...</th>\n",
       "      <td>...</td>\n",
       "      <td>...</td>\n",
       "      <td>...</td>\n",
       "      <td>...</td>\n",
       "      <td>...</td>\n",
       "      <td>...</td>\n",
       "      <td>...</td>\n",
       "      <td>...</td>\n",
       "      <td>...</td>\n",
       "    </tr>\n",
       "    <tr>\n",
       "      <th>1766</th>\n",
       "      <td>Zak's</td>\n",
       "      <td>U.S.A.</td>\n",
       "      <td>Unknown</td>\n",
       "      <td>House Blend, Batch 2</td>\n",
       "      <td></td>\n",
       "      <td>60%</td>\n",
       "      <td>1582</td>\n",
       "      <td>2015</td>\n",
       "      <td>3.00</td>\n",
       "    </tr>\n",
       "    <tr>\n",
       "      <th>1774</th>\n",
       "      <td>Zokoko</td>\n",
       "      <td>Australia</td>\n",
       "      <td>Unknown</td>\n",
       "      <td>Goddess Blend</td>\n",
       "      <td></td>\n",
       "      <td>65%</td>\n",
       "      <td>1780</td>\n",
       "      <td>2016</td>\n",
       "      <td>3.25</td>\n",
       "    </tr>\n",
       "    <tr>\n",
       "      <th>1778</th>\n",
       "      <td>Zotter</td>\n",
       "      <td>Austria</td>\n",
       "      <td>Unknown</td>\n",
       "      <td>Raw</td>\n",
       "      <td></td>\n",
       "      <td>80%</td>\n",
       "      <td>1205</td>\n",
       "      <td>2014</td>\n",
       "      <td>2.75</td>\n",
       "    </tr>\n",
       "    <tr>\n",
       "      <th>1780</th>\n",
       "      <td>Zotter</td>\n",
       "      <td>Austria</td>\n",
       "      <td>Unknown</td>\n",
       "      <td>Amazonas Frucht</td>\n",
       "      <td></td>\n",
       "      <td>65%</td>\n",
       "      <td>801</td>\n",
       "      <td>2012</td>\n",
       "      <td>3.50</td>\n",
       "    </tr>\n",
       "    <tr>\n",
       "      <th>1789</th>\n",
       "      <td>Zotter</td>\n",
       "      <td>Austria</td>\n",
       "      <td>Unknown</td>\n",
       "      <td>Indianer, Raw</td>\n",
       "      <td></td>\n",
       "      <td>58%</td>\n",
       "      <td>883</td>\n",
       "      <td>2012</td>\n",
       "      <td>3.50</td>\n",
       "    </tr>\n",
       "  </tbody>\n",
       "</table>\n",
       "<p>73 rows × 9 columns</p>\n",
       "</div>"
      ],
      "text/plain": [
       "          Company Company Location Bean Type  Specific Bean Origin  \\\n",
       "77         Amedei            Italy     Blend                  Nine   \n",
       "85         Amedei            Italy     Blend         Toscano Black   \n",
       "86         Amedei            Italy     Blend         Toscano Black   \n",
       "87         Amedei            Italy     Blend         Toscano Black   \n",
       "144   Bahen & Co.        Australia   Unknown            Houseblend   \n",
       "...           ...              ...       ...                   ...   \n",
       "1766        Zak's           U.S.A.   Unknown  House Blend, Batch 2   \n",
       "1774       Zokoko        Australia   Unknown         Goddess Blend   \n",
       "1778       Zotter          Austria   Unknown                   Raw   \n",
       "1780       Zotter          Austria   Unknown       Amazonas Frucht   \n",
       "1789       Zotter          Austria   Unknown         Indianer, Raw   \n",
       "\n",
       "     Broad Bean Origin Cocoa Percent   REF  Review Date  Rating  \n",
       "77                               75%   111         2007    4.00  \n",
       "85                               63%   170         2007    3.50  \n",
       "86                               70%    40         2006    5.00  \n",
       "87                               66%    75         2006    4.00  \n",
       "144                              80%  1474         2015    3.25  \n",
       "...                ...           ...   ...          ...     ...  \n",
       "1766                             60%  1582         2015    3.00  \n",
       "1774                             65%  1780         2016    3.25  \n",
       "1778                             80%  1205         2014    2.75  \n",
       "1780                             65%   801         2012    3.50  \n",
       "1789                             58%   883         2012    3.50  \n",
       "\n",
       "[73 rows x 9 columns]"
      ]
     },
     "execution_count": 29,
     "metadata": {},
     "output_type": "execute_result"
    }
   ],
   "source": [
    "df[df['Broad Bean Origin'].apply(lambda x: x.strip()).str.len() == 0]"
   ]
  },
  {
   "cell_type": "markdown",
   "metadata": {
    "colab_type": "text",
    "id": "aH6kvNxEeb3T"
   },
   "source": [
    "There are spaces in 73 rows of the data. Let's see what those space values are."
   ]
  },
  {
   "cell_type": "code",
   "execution_count": 30,
   "metadata": {
    "colab": {},
    "colab_type": "code",
    "id": "GNT-nh6sehTp"
   },
   "outputs": [
    {
     "name": "stdout",
     "output_type": "stream",
     "text": [
      "0xa0\n"
     ]
    }
   ],
   "source": [
    "spaces_df = df[df['Broad Bean Origin'].apply(\n",
    "    lambda x: x.strip()).str.len() == 0]\n",
    "\n",
    "for space in spaces_df['Broad Bean Origin'].unique():\n",
    "  print(\", \".join(\"0x{:02x}\".format(ord(c)) for c in space))"
   ]
  },
  {
   "cell_type": "markdown",
   "metadata": {
    "colab_type": "text",
    "id": "DHekK-OUe9sm"
   },
   "source": [
    "It is that pesky `0xa0` again.\n",
    "\n",
    "We can fix this by replacing all of the `0xa0` values with 'Unknown'. However, an even better fix would be if we could find similar chocolates with the same 'Specific Bean Origin' and then derive the 'Broad Bean Origin' from that.\n",
    "\n",
    "Let's see if it is even possible. To do that we can find all of the 'Specific Bean Origin' values for rows with 'Broad Bean Origin' and those without. Then we can use `pd.merge()` to combine the two. If you remember, `pd.merge()` returns only the values which appear in both of the given Series. This means that the return value will show us which values appear both in columns with 'Broad Bean Origin' values and those without."
   ]
  },
  {
   "cell_type": "code",
   "execution_count": 31,
   "metadata": {
    "colab": {},
    "colab_type": "code",
    "id": "3QFKBDMMr-kz"
   },
   "outputs": [
    {
     "data": {
      "text/html": [
       "<div>\n",
       "<style scoped>\n",
       "    .dataframe tbody tr th:only-of-type {\n",
       "        vertical-align: middle;\n",
       "    }\n",
       "\n",
       "    .dataframe tbody tr th {\n",
       "        vertical-align: top;\n",
       "    }\n",
       "\n",
       "    .dataframe thead th {\n",
       "        text-align: right;\n",
       "    }\n",
       "</style>\n",
       "<table border=\"1\" class=\"dataframe\">\n",
       "  <thead>\n",
       "    <tr style=\"text-align: right;\">\n",
       "      <th></th>\n",
       "      <th>Specific Bean Origin</th>\n",
       "    </tr>\n",
       "  </thead>\n",
       "  <tbody>\n",
       "    <tr>\n",
       "      <th>0</th>\n",
       "      <td>Signature Blend</td>\n",
       "    </tr>\n",
       "    <tr>\n",
       "      <th>1</th>\n",
       "      <td>Blend</td>\n",
       "    </tr>\n",
       "    <tr>\n",
       "      <th>2</th>\n",
       "      <td>Blend</td>\n",
       "    </tr>\n",
       "    <tr>\n",
       "      <th>3</th>\n",
       "      <td>Blend</td>\n",
       "    </tr>\n",
       "    <tr>\n",
       "      <th>4</th>\n",
       "      <td>Amazonas</td>\n",
       "    </tr>\n",
       "    <tr>\n",
       "      <th>5</th>\n",
       "      <td>Amazonas</td>\n",
       "    </tr>\n",
       "    <tr>\n",
       "      <th>6</th>\n",
       "      <td>Amazonas</td>\n",
       "    </tr>\n",
       "    <tr>\n",
       "      <th>7</th>\n",
       "      <td>Amazonas</td>\n",
       "    </tr>\n",
       "    <tr>\n",
       "      <th>8</th>\n",
       "      <td>Dark</td>\n",
       "    </tr>\n",
       "    <tr>\n",
       "      <th>9</th>\n",
       "      <td>Dark</td>\n",
       "    </tr>\n",
       "    <tr>\n",
       "      <th>10</th>\n",
       "      <td>Dark</td>\n",
       "    </tr>\n",
       "    <tr>\n",
       "      <th>11</th>\n",
       "      <td>Dark</td>\n",
       "    </tr>\n",
       "    <tr>\n",
       "      <th>12</th>\n",
       "      <td>Raw</td>\n",
       "    </tr>\n",
       "    <tr>\n",
       "      <th>13</th>\n",
       "      <td>Raw</td>\n",
       "    </tr>\n",
       "    <tr>\n",
       "      <th>14</th>\n",
       "      <td>Raw</td>\n",
       "    </tr>\n",
       "    <tr>\n",
       "      <th>15</th>\n",
       "      <td>Raw</td>\n",
       "    </tr>\n",
       "    <tr>\n",
       "      <th>16</th>\n",
       "      <td>Orinoco</td>\n",
       "    </tr>\n",
       "  </tbody>\n",
       "</table>\n",
       "</div>"
      ],
      "text/plain": [
       "   Specific Bean Origin\n",
       "0       Signature Blend\n",
       "1                 Blend\n",
       "2                 Blend\n",
       "3                 Blend\n",
       "4              Amazonas\n",
       "5              Amazonas\n",
       "6              Amazonas\n",
       "7              Amazonas\n",
       "8                  Dark\n",
       "9                  Dark\n",
       "10                 Dark\n",
       "11                 Dark\n",
       "12                  Raw\n",
       "13                  Raw\n",
       "14                  Raw\n",
       "15                  Raw\n",
       "16              Orinoco"
      ]
     },
     "execution_count": 31,
     "metadata": {},
     "output_type": "execute_result"
    }
   ],
   "source": [
    "has_bbo_idx = df['Broad Bean Origin'].apply(lambda x: x.strip()).str.len() > 0\n",
    "\n",
    "sbo_bbo = df[has_bbo_idx]['Specific Bean Origin']\n",
    "sbo_no_bbo = df[~has_bbo_idx]['Specific Bean Origin']\n",
    "\n",
    "pd.merge(sbo_bbo, sbo_no_bbo)"
   ]
  },
  {
   "cell_type": "markdown",
   "metadata": {
    "colab_type": "text",
    "id": "pv2qhp-stnDK"
   },
   "source": [
    "We have overlap, which is good. In theory, we could use the 'Broad Bean Origin' values from bars that *have* that value to fill in the 'Broad Bean Origin' for bars from the same specific region that *don't have* it.\n",
    "\n",
    "But look closely at those 'Specific Bean Origin' values. Dark? Raw? Blend?\n",
    "\n",
    "Those are specific origins. The only two origins that seem even close to regions are 'Amazonas' and 'Orinoco'. Let's look closer at the data for those regions."
   ]
  },
  {
   "cell_type": "code",
   "execution_count": null,
   "metadata": {
    "colab": {},
    "colab_type": "code",
    "id": "E4Rwap-emG7I"
   },
   "outputs": [],
   "source": [
    "df[(df['Specific Bean Origin'] == 'Orinoco') | \n",
    "   (df['Specific Bean Origin'] == 'Amazonas')]"
   ]
  },
  {
   "cell_type": "markdown",
   "metadata": {
    "colab_type": "text",
    "id": "OLd2P63Cur58"
   },
   "source": [
    "Yuck! Amazonas turns out to be a very common location. There are states called Amazonas in Brazil, Venezuela, and Peru. Orinoco is a river that runs through both Venezuela and Columbia.\n",
    "\n",
    "In neither case do we have definitive data to make the call about the 'Broad Bean Origin' for these rows.\n",
    "\n",
    "Unfortunately that is how it goes when working with data. You get imperfect data into your system, and then you try to research and find the best fix. But you sometimes just have to accept that you are missing data."
   ]
  },
  {
   "cell_type": "markdown",
   "metadata": {
    "colab_type": "text",
    "id": "rp4vPDsrvXOd"
   },
   "source": [
    "#### Exercise 6: Unknown Broad Bean Origins\n",
    "\n",
    "We have a few 'Broad Bean Origin' values of `0xa0`. Change those values to the literal string 'Unknown'."
   ]
  },
  {
   "cell_type": "markdown",
   "metadata": {
    "colab_type": "text",
    "id": "Am8-XSgUvnTV"
   },
   "source": [
    "**Student Solution**"
   ]
  },
  {
   "cell_type": "code",
   "execution_count": 32,
   "metadata": {
    "colab": {},
    "colab_type": "code",
    "id": "w-1nztOJvqU0"
   },
   "outputs": [],
   "source": [
    "# Your Code Goes Here\n",
    "df['Broad Bean Origin'] = np.where(df['Broad Bean Origin'] == chr(0xa0), 'Unknown', df['Broad Bean Origin'])"
   ]
  },
  {
   "cell_type": "markdown",
   "metadata": {
    "colab_type": "text",
    "id": "eTGo8qRPvpTY"
   },
   "source": [
    "---"
   ]
  },
  {
   "cell_type": "markdown",
   "metadata": {
    "colab_type": "text",
    "id": "u62i8AyedjYS"
   },
   "source": [
    "### Column: Cocoa Percent"
   ]
  },
  {
   "cell_type": "markdown",
   "metadata": {
    "colab_type": "text",
    "id": "R9yoBTgVn2FC"
   },
   "source": [
    "Next we will check out the 'Cocoa Percent' column. Remember that 'Cocoa Percent' is \"*Cocoa percentage (darkness) of the chocolate bar*.\"\n",
    "\n",
    "As usual, we'll first see if there is any missing data:"
   ]
  },
  {
   "cell_type": "code",
   "execution_count": 33,
   "metadata": {
    "colab": {},
    "colab_type": "code",
    "id": "yf9ZR67MO2On"
   },
   "outputs": [
    {
     "data": {
      "text/plain": [
       "False"
      ]
     },
     "execution_count": 33,
     "metadata": {},
     "output_type": "execute_result"
    }
   ],
   "source": [
    "df['Cocoa Percent'].isna().any()"
   ]
  },
  {
   "cell_type": "markdown",
   "metadata": {
    "colab_type": "text",
    "id": "obWQn5v_O6Y8"
   },
   "source": [
    "Nothing missing. Great!\n",
    "\n",
    "Next, we should probably check to make sure that the percentages fall within a valid range: 0-100 or 0.0-1.0. You might recall that 'Cocoa Percent' isn't actually a numeric column, though, so we can't easily find the range. If we sample the data, we see that it looks like percentages from 0 to 100, but they are stored as strings with '%' symbols appended."
   ]
  },
  {
   "cell_type": "code",
   "execution_count": 34,
   "metadata": {
    "colab": {},
    "colab_type": "code",
    "id": "PpefxWtCPSLg"
   },
   "outputs": [
    {
     "data": {
      "text/plain": [
       "833     82%\n",
       "1689    66%\n",
       "1469    73%\n",
       "785     67%\n",
       "1534    70%\n",
       "1137    75%\n",
       "893     85%\n",
       "827     70%\n",
       "1264    76%\n",
       "1188    70%\n",
       "Name: Cocoa Percent, dtype: object"
      ]
     },
     "execution_count": 34,
     "metadata": {},
     "output_type": "execute_result"
    }
   ],
   "source": [
    "df['Cocoa Percent'].sample(10)"
   ]
  },
  {
   "cell_type": "markdown",
   "metadata": {
    "colab_type": "text",
    "id": "0pM0VQeZPw7K"
   },
   "source": [
    "We need to remove those percentage signs and convert the digits that remain into numbers. There are a few ways that we can accomplish this.\n",
    "\n",
    "One is to apply a lambda to each value. The lambda can slice all but the last character of each value and then convert it to a float using core Python syntax."
   ]
  },
  {
   "cell_type": "code",
   "execution_count": 35,
   "metadata": {
    "colab": {},
    "colab_type": "code",
    "id": "0Ck7RSOBP4eV"
   },
   "outputs": [
    {
     "data": {
      "text/plain": [
       "0       63.0\n",
       "1       70.0\n",
       "2       70.0\n",
       "3       70.0\n",
       "4       70.0\n",
       "        ... \n",
       "1790    70.0\n",
       "1791    65.0\n",
       "1792    65.0\n",
       "1793    62.0\n",
       "1794    65.0\n",
       "Name: Cocoa Percent, Length: 1795, dtype: float64"
      ]
     },
     "execution_count": 35,
     "metadata": {},
     "output_type": "execute_result"
    }
   ],
   "source": [
    "df['Cocoa Percent'].apply(lambda s: float(s[:-1]))"
   ]
  },
  {
   "cell_type": "markdown",
   "metadata": {
    "colab_type": "text",
    "id": "xbgR_ICHRGxA"
   },
   "source": [
    "An alternative is to use `.str.strip('%')` on the `Series` to remove the percentage sign and then pass the resultant `Series` to `pd.to_numeric()` in order to convert the string values to numbers."
   ]
  },
  {
   "cell_type": "code",
   "execution_count": null,
   "metadata": {
    "colab": {},
    "colab_type": "code",
    "id": "73zhUkgbPRL_"
   },
   "outputs": [],
   "source": [
    "pd.to_numeric(df['Cocoa Percent'].str.strip('%'))"
   ]
  },
  {
   "cell_type": "markdown",
   "metadata": {
    "colab_type": "text",
    "id": "DEka63nyRWLG"
   },
   "source": [
    "Is one way better than the other? Not necessarily. Feel free to choose whichever feels more natural to you.\n",
    "\n",
    "Either way, we need to do the conversion and save the new values to 'Cocoa Percent'."
   ]
  },
  {
   "cell_type": "code",
   "execution_count": null,
   "metadata": {
    "colab": {},
    "colab_type": "code",
    "id": "PDHkS3d_Rpyq"
   },
   "outputs": [],
   "source": [
    "df['Cocoa Percent'] = df['Cocoa Percent'].apply(lambda s: float(s[:-1]))\n",
    "df['Cocoa Percent'].describe()"
   ]
  },
  {
   "cell_type": "markdown",
   "metadata": {
    "colab_type": "text",
    "id": "K0v69PWOmpBp"
   },
   "source": [
    "We have now converted our 'Cocoa Percent' column from a string to a floating point number. We can see in the output of the call to `describe()` that the minimum cocoa percentage that we have is 42% and that the maximum is 100%. Both seem like reasonable values for cocoa content in a chocolate bar, so our work here is done."
   ]
  },
  {
   "cell_type": "markdown",
   "metadata": {
    "colab_type": "text",
    "id": "tdmZTO2KTexy"
   },
   "source": [
    "### Column: REF"
   ]
  },
  {
   "cell_type": "markdown",
   "metadata": {
    "colab_type": "text",
    "id": "OTwhzLEZTyi8"
   },
   "source": [
    "The 'REF' column is \"*A value linked to when the review was entered in the database. Higher = more recent*.\" Let's take a look at it.\n",
    "\n",
    "As always, we should check and see if there are any values missing."
   ]
  },
  {
   "cell_type": "code",
   "execution_count": null,
   "metadata": {
    "colab": {},
    "colab_type": "code",
    "id": "1wHAtxeCVAqD"
   },
   "outputs": [],
   "source": [
    "df['REF'].isna().any()"
   ]
  },
  {
   "cell_type": "markdown",
   "metadata": {
    "colab_type": "text",
    "id": "ecfkqlT8VRcY"
   },
   "source": [
    "We can `describe()` the data to see some basic statistics about it."
   ]
  },
  {
   "cell_type": "code",
   "execution_count": null,
   "metadata": {
    "colab": {},
    "colab_type": "code",
    "id": "Qknt0ahdVH4W"
   },
   "outputs": [],
   "source": [
    "df['REF'].describe()"
   ]
  },
  {
   "cell_type": "markdown",
   "metadata": {
    "colab_type": "text",
    "id": "0tufVwglVVwY"
   },
   "source": [
    "Here we can see that the data ranges from 5 through 1952 and that the mean is pretty high.\n",
    "\n",
    "Are the values unique?"
   ]
  },
  {
   "cell_type": "code",
   "execution_count": null,
   "metadata": {
    "colab": {},
    "colab_type": "code",
    "id": "i-6iGJD0VyBf"
   },
   "outputs": [],
   "source": [
    "df['REF'].unique().size"
   ]
  },
  {
   "cell_type": "markdown",
   "metadata": {
    "colab_type": "text",
    "id": "b0W32mH0WP8u"
   },
   "source": [
    "Not unique. So 'REF' isn't a unique identifier for our rows of data."
   ]
  },
  {
   "cell_type": "markdown",
   "metadata": {
    "colab_type": "text",
    "id": "s2qh6_MGWdQ4"
   },
   "source": [
    "There isn't much more that we can do with this column. We might want to visualize it to see if we can find any meaning. The numbers themselves aren't particularly interesting, but the quantity of each number might be. Let's find and plot the count of each 'REF'."
   ]
  },
  {
   "cell_type": "code",
   "execution_count": null,
   "metadata": {
    "colab": {},
    "colab_type": "code",
    "id": "b9zw2eTHWxJB"
   },
   "outputs": [],
   "source": [
    "import matplotlib.pyplot as plt\n",
    "\n",
    "ref_counts = df['REF'].groupby(df['REF']).count()\n",
    "plt.figure(figsize=(20,10))\n",
    "plt.bar(ref_counts.index.values, ref_counts)\n",
    "plt.show()"
   ]
  },
  {
   "cell_type": "markdown",
   "metadata": {
    "colab_type": "text",
    "id": "_j-xZZC_XcY7"
   },
   "source": [
    "From this chart we can see that 'REF' values repeat between 1 and 9 times with 4 being the most common. Overall, there isn't much interesting data or data repair for this column."
   ]
  },
  {
   "cell_type": "markdown",
   "metadata": {
    "colab_type": "text",
    "id": "ceaB_NaubW1x"
   },
   "source": [
    "### Column: Review Date"
   ]
  },
  {
   "cell_type": "markdown",
   "metadata": {
    "colab_type": "text",
    "id": "nOgnWofebcQx"
   },
   "source": [
    "Review date is the date that the review for a given row was actually published. It is a numeric column.\n",
    "\n",
    "First, let's see if any data is missing."
   ]
  },
  {
   "cell_type": "code",
   "execution_count": 36,
   "metadata": {
    "colab": {},
    "colab_type": "code",
    "id": "Bx71DI97brba"
   },
   "outputs": [
    {
     "data": {
      "text/plain": [
       "False"
      ]
     },
     "execution_count": 36,
     "metadata": {},
     "output_type": "execute_result"
    }
   ],
   "source": [
    "df['Review Date'].isna().any()"
   ]
  },
  {
   "cell_type": "markdown",
   "metadata": {
    "colab_type": "text",
    "id": "357tRDRpb1v3"
   },
   "source": [
    "No missing data. Good.\n",
    "\n",
    "Now we can check some basic statistics about the data."
   ]
  },
  {
   "cell_type": "code",
   "execution_count": null,
   "metadata": {
    "colab": {},
    "colab_type": "code",
    "id": "nTjNEeYub6np"
   },
   "outputs": [],
   "source": [
    "df['Review Date'].describe()"
   ]
  },
  {
   "cell_type": "markdown",
   "metadata": {
    "colab_type": "text",
    "id": "e8t6UURbb9QW"
   },
   "source": [
    "We can see publication dates ranging from 2006 through 2017, which seems like reasonable years. If we had seen dates from the 1800s or the future, we should be worried. This range seems well within reason, though.\n",
    "\n",
    "There isn't much else that we need to do for this column. Since we only have a few years when reviews were posted, we can create a visualization showing how many reviews were posted each year."
   ]
  },
  {
   "cell_type": "markdown",
   "metadata": {
    "colab_type": "text",
    "id": "ftNn3yb5cj2e"
   },
   "source": [
    "#### Exercise 7: Reviews Per Year\n",
    "\n",
    "Create a visualization that shows the number of reviews that were created each year."
   ]
  },
  {
   "cell_type": "markdown",
   "metadata": {
    "colab_type": "text",
    "id": "h9b2S5Dkct1w"
   },
   "source": [
    "**Student Solution**"
   ]
  },
  {
   "cell_type": "code",
   "execution_count": 49,
   "metadata": {
    "colab": {},
    "colab_type": "code",
    "id": "YGsp-igoczGx"
   },
   "outputs": [
    {
     "data": {
      "text/plain": [
       "Review Date\n",
       "2006     72\n",
       "2007     77\n",
       "2008     93\n",
       "2009    123\n",
       "2010    111\n",
       "2011    165\n",
       "2012    195\n",
       "2013    184\n",
       "2014    247\n",
       "2015    285\n",
       "2016    219\n",
       "2017     24\n",
       "Name: Review Date, dtype: int64"
      ]
     },
     "execution_count": 49,
     "metadata": {},
     "output_type": "execute_result"
    }
   ],
   "source": [
    "import seaborn as sns\n",
    "import matplotlib as plt\n",
    "\n",
    "df_grouped_by_year = df.groupby('Review Date')['Review Date'].count()\n",
    "df_grouped_by_year.columns = ['Count']\n",
    "df_grouped_by_year.reset_index\n",
    "df_grouped_by_year\n",
    "\n",
    "# plt.figure(figsize=(12,6))\n",
    "# plt.title('Reviews per year')\n",
    "# sns.lineplot\n",
    "# plt.xlabel('Year')\n",
    "# plt.ylabel('')"
   ]
  },
  {
   "cell_type": "markdown",
   "metadata": {
    "colab_type": "text",
    "id": "T-or1La-c6y7"
   },
   "source": [
    "---"
   ]
  },
  {
   "cell_type": "markdown",
   "metadata": {
    "colab_type": "text",
    "id": "mX_nMXjMdrVT"
   },
   "source": [
    "### Column: Rating"
   ]
  },
  {
   "cell_type": "markdown",
   "metadata": {
    "colab_type": "text",
    "id": "k_GIPUeC08Gz"
   },
   "source": [
    "We have now made it to the rating column. The rating is the \"*expert rating for the bar*.\"  From the [documentation](https://www.kaggle.com/rtatman/chocolate-bar-ratings), the possible ratings are:\n",
    "\n",
    "Rating | Meaning\n",
    "-------|---------\n",
    "5 | Elite (Transcending beyond the ordinary limits)\n",
    "4 | Premium (Superior flavor development, character and style)\n",
    "3 | Satisfactory (3.0) to praiseworthy(3.75) (well made with special qualities)\n",
    "2 | Disappointing (Passable but contains at least one significant flaw)\n",
    "1 | Unpleasant (mostly unpalatable)\n",
    "\n",
    "Let's take a look at ratings. First off, are any missing?"
   ]
  },
  {
   "cell_type": "code",
   "execution_count": null,
   "metadata": {
    "colab": {},
    "colab_type": "code",
    "id": "mbpdYmLt3vam"
   },
   "outputs": [],
   "source": [
    "df['Rating'].isna().any()"
   ]
  },
  {
   "cell_type": "markdown",
   "metadata": {
    "colab_type": "text",
    "id": "Vgj0-juX30CC"
   },
   "source": [
    "Nothing missing. Let's describe the column of data."
   ]
  },
  {
   "cell_type": "code",
   "execution_count": null,
   "metadata": {
    "colab": {},
    "colab_type": "code",
    "id": "ux0NkE4X33A-"
   },
   "outputs": [],
   "source": [
    "df['Rating'].describe()"
   ]
  },
  {
   "cell_type": "markdown",
   "metadata": {
    "colab_type": "text",
    "id": "I8bbhS454MRY"
   },
   "source": [
    "It looks like our ratings are indeed floating point values and that they range from 1.0 to 5.0. But are they really continuous?"
   ]
  },
  {
   "cell_type": "code",
   "execution_count": 50,
   "metadata": {
    "colab": {},
    "colab_type": "code",
    "id": "M8Sh68jo4TPO"
   },
   "outputs": [
    {
     "data": {
      "text/plain": [
       "[1.0, 1.5, 1.75, 2.0, 2.25, 2.5, 2.75, 3.0, 3.25, 3.5, 3.75, 4.0, 5.0]"
      ]
     },
     "execution_count": 50,
     "metadata": {},
     "output_type": "execute_result"
    }
   ],
   "source": [
    "sorted(df['Rating'].unique())"
   ]
  },
  {
   "cell_type": "markdown",
   "metadata": {
    "colab_type": "text",
    "id": "06Xu3zAoyI1R"
   },
   "source": [
    "Interestingly enough, the values don't seem to be continuous, but instead seem to be divided into quarters. Instead of infinite possible values between 1.0 and 5.0, we really have 17 possible values: 1.0, 1.25, 1.5, 1.75, 2.0, 2.25, 2.5, 2.75, 3.0, 3.25, 3.5, 3.75, 4.0, 4.25, 4.5, 4.75, 5.0.\n",
    "\n",
    "What does this mean for us?\n",
    "\n",
    "It means that downstream we might be able to use a regression or categorical model in order to predict these values.\n",
    "\n",
    "If we think about the ratings numbers, their relative position matters. For example, a 4.0 chocolate is better than a 2.0 chocolate. But does the magnitude matter? Is a 4.0 chocolate twice as good as a 2.0 chocolate? What does that even mean?\n",
    "\n",
    "Let's set our modelers up for success and create a new column that they can use to potentially build models for our data."
   ]
  },
  {
   "cell_type": "markdown",
   "metadata": {
    "colab_type": "text",
    "id": "31Ca5wI4zqA_"
   },
   "source": [
    "#### Exercise 8: Ratings as Categories\n",
    "\n",
    "In this exercise we are going to create a new column called 'Grade'. Grade is a categorical rating system that maps the following ratings to grades:\n",
    "\n",
    "Rating | Grade\n",
    "-------|------\n",
    "5.00   | A\n",
    "4.75   | B\n",
    "4.50   | C\n",
    "4.25   | D\n",
    "4.00   | E\n",
    "3.75   | F\n",
    "3.50   | G\n",
    "3.25   | H\n",
    "3.00   | I\n",
    "2.75   | J\n",
    "2.50   | K\n",
    "2.25   | L\n",
    "2.00   | M\n",
    "1.75   | N\n",
    "1.50   | O\n",
    "1.25   | P\n",
    "1.00   | Q\n",
    "\n",
    "Create the 'Grade' column and add it to our chocolate bar `DataFrame`."
   ]
  },
  {
   "cell_type": "markdown",
   "metadata": {
    "colab_type": "text",
    "id": "l8taMl3U0cv2"
   },
   "source": [
    "**Student Solution**"
   ]
  },
  {
   "cell_type": "code",
   "execution_count": 62,
   "metadata": {
    "colab": {},
    "colab_type": "code",
    "id": "3ZvVNGDe0cNw"
   },
   "outputs": [
    {
     "data": {
      "text/plain": [
       "{1.0: 'A',\n",
       " 1.25: 'B',\n",
       " 1.5: 'C',\n",
       " 1.75: 'D',\n",
       " 2.0: 'E',\n",
       " 2.25: 'F',\n",
       " 2.5: 'G',\n",
       " 2.75: 'H',\n",
       " 3.0: 'I',\n",
       " 3.25: 'J',\n",
       " 3.5: 'K',\n",
       " 3.75: 'L',\n",
       " 4.0: 'M',\n",
       " 4.25: 'N',\n",
       " 4.5: 'O',\n",
       " 4.75: 'P',\n",
       " 5.0: 'Q'}"
      ]
     },
     "execution_count": 62,
     "metadata": {},
     "output_type": "execute_result"
    }
   ],
   "source": [
    "import string\n",
    "rating_s = np.arange(1.00, 5.25, 0.25)\n",
    "\n",
    "# make a series consists of 'A' to 'Q'\n",
    "grade_s = pd.Series(list(string.ascii_uppercase)[:len(rating_s)])\n",
    "\n",
    "map_rating_to_grade = dict(zip(rating_s, grade_s))\n",
    "map_rating_to_grade"
   ]
  },
  {
   "cell_type": "code",
   "execution_count": 64,
   "metadata": {},
   "outputs": [
    {
     "data": {
      "text/html": [
       "<div>\n",
       "<style scoped>\n",
       "    .dataframe tbody tr th:only-of-type {\n",
       "        vertical-align: middle;\n",
       "    }\n",
       "\n",
       "    .dataframe tbody tr th {\n",
       "        vertical-align: top;\n",
       "    }\n",
       "\n",
       "    .dataframe thead th {\n",
       "        text-align: right;\n",
       "    }\n",
       "</style>\n",
       "<table border=\"1\" class=\"dataframe\">\n",
       "  <thead>\n",
       "    <tr style=\"text-align: right;\">\n",
       "      <th></th>\n",
       "      <th>Company</th>\n",
       "      <th>Company Location</th>\n",
       "      <th>Bean Type</th>\n",
       "      <th>Specific Bean Origin</th>\n",
       "      <th>Broad Bean Origin</th>\n",
       "      <th>Cocoa Percent</th>\n",
       "      <th>REF</th>\n",
       "      <th>Review Date</th>\n",
       "      <th>Rating</th>\n",
       "      <th>Grade</th>\n",
       "    </tr>\n",
       "  </thead>\n",
       "  <tbody>\n",
       "    <tr>\n",
       "      <th>0</th>\n",
       "      <td>A. Morin</td>\n",
       "      <td>France</td>\n",
       "      <td>Unknown</td>\n",
       "      <td>Agua Grande</td>\n",
       "      <td>Sao Tome</td>\n",
       "      <td>63%</td>\n",
       "      <td>1876</td>\n",
       "      <td>2016</td>\n",
       "      <td>3.75</td>\n",
       "      <td>L</td>\n",
       "    </tr>\n",
       "    <tr>\n",
       "      <th>1</th>\n",
       "      <td>A. Morin</td>\n",
       "      <td>France</td>\n",
       "      <td>Unknown</td>\n",
       "      <td>Kpime</td>\n",
       "      <td>Togo</td>\n",
       "      <td>70%</td>\n",
       "      <td>1676</td>\n",
       "      <td>2015</td>\n",
       "      <td>2.75</td>\n",
       "      <td>H</td>\n",
       "    </tr>\n",
       "    <tr>\n",
       "      <th>2</th>\n",
       "      <td>A. Morin</td>\n",
       "      <td>France</td>\n",
       "      <td>Unknown</td>\n",
       "      <td>Atsane</td>\n",
       "      <td>Togo</td>\n",
       "      <td>70%</td>\n",
       "      <td>1676</td>\n",
       "      <td>2015</td>\n",
       "      <td>3.00</td>\n",
       "      <td>I</td>\n",
       "    </tr>\n",
       "    <tr>\n",
       "      <th>3</th>\n",
       "      <td>A. Morin</td>\n",
       "      <td>France</td>\n",
       "      <td>Unknown</td>\n",
       "      <td>Akata</td>\n",
       "      <td>Togo</td>\n",
       "      <td>70%</td>\n",
       "      <td>1680</td>\n",
       "      <td>2015</td>\n",
       "      <td>3.50</td>\n",
       "      <td>K</td>\n",
       "    </tr>\n",
       "    <tr>\n",
       "      <th>4</th>\n",
       "      <td>A. Morin</td>\n",
       "      <td>France</td>\n",
       "      <td>Unknown</td>\n",
       "      <td>Quilla</td>\n",
       "      <td>Peru</td>\n",
       "      <td>70%</td>\n",
       "      <td>1704</td>\n",
       "      <td>2015</td>\n",
       "      <td>3.50</td>\n",
       "      <td>K</td>\n",
       "    </tr>\n",
       "    <tr>\n",
       "      <th>...</th>\n",
       "      <td>...</td>\n",
       "      <td>...</td>\n",
       "      <td>...</td>\n",
       "      <td>...</td>\n",
       "      <td>...</td>\n",
       "      <td>...</td>\n",
       "      <td>...</td>\n",
       "      <td>...</td>\n",
       "      <td>...</td>\n",
       "      <td>...</td>\n",
       "    </tr>\n",
       "    <tr>\n",
       "      <th>1790</th>\n",
       "      <td>Zotter</td>\n",
       "      <td>Austria</td>\n",
       "      <td>Unknown</td>\n",
       "      <td>Peru</td>\n",
       "      <td>Peru</td>\n",
       "      <td>70%</td>\n",
       "      <td>647</td>\n",
       "      <td>2011</td>\n",
       "      <td>3.75</td>\n",
       "      <td>L</td>\n",
       "    </tr>\n",
       "    <tr>\n",
       "      <th>1791</th>\n",
       "      <td>Zotter</td>\n",
       "      <td>Austria</td>\n",
       "      <td>Forastero</td>\n",
       "      <td>Congo</td>\n",
       "      <td>Congo</td>\n",
       "      <td>65%</td>\n",
       "      <td>749</td>\n",
       "      <td>2011</td>\n",
       "      <td>3.00</td>\n",
       "      <td>I</td>\n",
       "    </tr>\n",
       "    <tr>\n",
       "      <th>1792</th>\n",
       "      <td>Zotter</td>\n",
       "      <td>Austria</td>\n",
       "      <td>Forastero</td>\n",
       "      <td>Kerala State</td>\n",
       "      <td>India</td>\n",
       "      <td>65%</td>\n",
       "      <td>749</td>\n",
       "      <td>2011</td>\n",
       "      <td>3.50</td>\n",
       "      <td>K</td>\n",
       "    </tr>\n",
       "    <tr>\n",
       "      <th>1793</th>\n",
       "      <td>Zotter</td>\n",
       "      <td>Austria</td>\n",
       "      <td>Unknown</td>\n",
       "      <td>Kerala State</td>\n",
       "      <td>India</td>\n",
       "      <td>62%</td>\n",
       "      <td>781</td>\n",
       "      <td>2011</td>\n",
       "      <td>3.25</td>\n",
       "      <td>J</td>\n",
       "    </tr>\n",
       "    <tr>\n",
       "      <th>1794</th>\n",
       "      <td>Zotter</td>\n",
       "      <td>Austria</td>\n",
       "      <td>Unknown</td>\n",
       "      <td>Brazil, Mitzi Blue</td>\n",
       "      <td>Brazil</td>\n",
       "      <td>65%</td>\n",
       "      <td>486</td>\n",
       "      <td>2010</td>\n",
       "      <td>3.00</td>\n",
       "      <td>I</td>\n",
       "    </tr>\n",
       "  </tbody>\n",
       "</table>\n",
       "<p>1795 rows × 10 columns</p>\n",
       "</div>"
      ],
      "text/plain": [
       "       Company Company Location  Bean Type Specific Bean Origin  \\\n",
       "0     A. Morin           France    Unknown          Agua Grande   \n",
       "1     A. Morin           France    Unknown                Kpime   \n",
       "2     A. Morin           France    Unknown               Atsane   \n",
       "3     A. Morin           France    Unknown                Akata   \n",
       "4     A. Morin           France    Unknown               Quilla   \n",
       "...        ...              ...        ...                  ...   \n",
       "1790    Zotter          Austria    Unknown                 Peru   \n",
       "1791    Zotter          Austria  Forastero                Congo   \n",
       "1792    Zotter          Austria  Forastero         Kerala State   \n",
       "1793    Zotter          Austria    Unknown         Kerala State   \n",
       "1794    Zotter          Austria    Unknown   Brazil, Mitzi Blue   \n",
       "\n",
       "     Broad Bean Origin Cocoa Percent   REF  Review Date  Rating Grade  \n",
       "0             Sao Tome           63%  1876         2016    3.75     L  \n",
       "1                 Togo           70%  1676         2015    2.75     H  \n",
       "2                 Togo           70%  1676         2015    3.00     I  \n",
       "3                 Togo           70%  1680         2015    3.50     K  \n",
       "4                 Peru           70%  1704         2015    3.50     K  \n",
       "...                ...           ...   ...          ...     ...   ...  \n",
       "1790              Peru           70%   647         2011    3.75     L  \n",
       "1791             Congo           65%   749         2011    3.00     I  \n",
       "1792             India           65%   749         2011    3.50     K  \n",
       "1793             India           62%   781         2011    3.25     J  \n",
       "1794            Brazil           65%   486         2010    3.00     I  \n",
       "\n",
       "[1795 rows x 10 columns]"
      ]
     },
     "execution_count": 64,
     "metadata": {},
     "output_type": "execute_result"
    }
   ],
   "source": [
    "# Create nnew column called grade using map_rating_to_grade\n",
    "df['Grade'] = df['Rating'].map(map_rating_to_grade)\n",
    "df"
   ]
  },
  {
   "cell_type": "markdown",
   "metadata": {
    "colab_type": "text",
    "id": "e0E6_seMAPNg"
   },
   "source": [
    "## Onward\n",
    "\n",
    "We've now explored every column in our dataset. We have filled in missing values and repaired obviously bad data.\n",
    "\n",
    "As you can imagine, you can spend near infinite time trying to get a dataset into shape for analysis and modeling. It is common to hear that up to 60% to 80% of a data scientist's time is spent working on the data before it is fed to a model!\n",
    "\n",
    "In this lab, we only tried to get the data into the state that it was intended to be in. Once we get into modeling, we will learn even more data manipulation techniques that need to be used in order to get models to train well on the data.\n",
    "\n",
    "But we aren't quite ready for model building yet. There is still more Exploratory Data Analysis (EDA) to do. In part 2 of this unit, we will look more closely at the relationships between the columns."
   ]
  }
 ],
 "metadata": {
  "colab": {
   "collapsed_sections": [
    "copyright",
    "xi_YNmlW-Cm0",
    "VJtC2KkqLXHL",
    "PEb_Kz9MSAeQ",
    "j8pEWWVjTLNJ",
    "zU1-9OnmvsLd",
    "uRWrqLn_c3lF"
   ],
   "include_colab_link": true,
   "name": "Exploratory Data Analysis: Part 1 - Data Preprocessing",
   "private_outputs": true,
   "provenance": [],
   "toc_visible": true
  },
  "interpreter": {
   "hash": "8243885c2854609d3dc561d5d46d54c39d72279f0658d4492ea78357213959dc"
  },
  "kernelspec": {
   "display_name": "Python 3.9.7 ('base')",
   "language": "python",
   "name": "python3"
  },
  "language_info": {
   "codemirror_mode": {
    "name": "ipython",
    "version": 3
   },
   "file_extension": ".py",
   "mimetype": "text/x-python",
   "name": "python",
   "nbconvert_exporter": "python",
   "pygments_lexer": "ipython3",
   "version": "3.9.7"
  }
 },
 "nbformat": 4,
 "nbformat_minor": 0
}
